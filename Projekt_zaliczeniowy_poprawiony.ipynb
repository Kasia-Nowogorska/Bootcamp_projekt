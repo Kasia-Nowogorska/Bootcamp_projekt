{
 "cells": [
  {
   "cell_type": "markdown",
   "metadata": {},
   "source": [
    "# Projekt zaliczeniowy Katarzyna Nowogórska "
   ]
  },
  {
   "cell_type": "markdown",
   "metadata": {},
   "source": [
    "## Temat 2 Przewidywanie wzięcia pożyczki"
   ]
  },
  {
   "cell_type": "code",
   "execution_count": 1,
   "metadata": {},
   "outputs": [],
   "source": [
    "#Import odpowiednich pakietów oraz transformerów\n",
    "from __future__ import print_function\n",
    "\n",
    "import pandas as pd\n",
    "import numpy as np\n",
    "import seaborn as sns\n",
    "import matplotlib.pyplot as plt\n",
    "\n",
    "from sklearn.compose import ColumnTransformer\n",
    "from sklearn.pipeline import Pipeline\n",
    "from sklearn.impute import SimpleImputer\n",
    "from sklearn.preprocessing import StandardScaler, OneHotEncoder\n",
    "from sklearn.linear_model import LogisticRegression\n",
    "from sklearn.model_selection import train_test_split, GridSearchCV\n",
    "from sklearn.base import BaseEstimator, TransformerMixin\n",
    "from sklearn.pipeline import FeatureUnion\n",
    "from sklearn.ensemble import RandomForestClassifier\n",
    "from sklearn.ensemble import BaggingClassifier\n",
    "from sklearn.tree import DecisionTreeClassifier\n",
    "from sklearn.ensemble import GradientBoostingClassifier\n",
    "from sklearn.ensemble import RandomForestClassifier\n",
    "from sklearn.naive_bayes import GaussianNB\n",
    "from sklearn.svm import LinearSVC, SVC\n",
    "from sklearn.model_selection import GridSearchCV\n",
    "from sklearn.metrics import roc_curve, auc, f1_score\n",
    "\n",
    "\n",
    "np.random.seed(0)\n",
    "\n",
    "# Załadowanie danych z podanego adresu URL oraz usunięcie zmiennje LoggedIn\n",
    "URL = 'https://raw.githubusercontent.com/saimadhu-polamuri/DataHakthon3X/master/dataSet/Train.csv'\n",
    "data = pd.read_csv(URL, encoding='ISO-8859–1')\n",
    "data.drop(['LoggedIn'], axis=1, inplace=True)\n"
   ]
  },
  {
   "cell_type": "code",
   "execution_count": 2,
   "metadata": {
    "scrolled": true
   },
   "outputs": [
    {
     "name": "stdout",
     "output_type": "stream",
     "text": [
      "<class 'pandas.core.frame.DataFrame'>\n",
      "RangeIndex: 87020 entries, 0 to 87019\n",
      "Data columns (total 25 columns):\n",
      " #   Column                 Non-Null Count  Dtype  \n",
      "---  ------                 --------------  -----  \n",
      " 0   ID                     87020 non-null  object \n",
      " 1   Gender                 87020 non-null  object \n",
      " 2   City                   86017 non-null  object \n",
      " 3   Monthly_Income         87020 non-null  int64  \n",
      " 4   DOB                    87020 non-null  object \n",
      " 5   Lead_Creation_Date     87020 non-null  object \n",
      " 6   Loan_Amount_Applied    86949 non-null  float64\n",
      " 7   Loan_Tenure_Applied    86949 non-null  float64\n",
      " 8   Existing_EMI           86949 non-null  float64\n",
      " 9   Employer_Name          86949 non-null  object \n",
      " 10  Salary_Account         75256 non-null  object \n",
      " 11  Mobile_Verified        87020 non-null  object \n",
      " 12  Var5                   87020 non-null  int64  \n",
      " 13  Var1                   87020 non-null  object \n",
      " 14  Loan_Amount_Submitted  52407 non-null  float64\n",
      " 15  Loan_Tenure_Submitted  52407 non-null  float64\n",
      " 16  Interest_Rate          27726 non-null  float64\n",
      " 17  Processing_Fee         27420 non-null  float64\n",
      " 18  EMI_Loan_Submitted     27726 non-null  float64\n",
      " 19  Filled_Form            87020 non-null  object \n",
      " 20  Device_Type            87020 non-null  object \n",
      " 21  Var2                   87020 non-null  object \n",
      " 22  Source                 87020 non-null  object \n",
      " 23  Var4                   87020 non-null  int64  \n",
      " 24  Disbursed              87020 non-null  int64  \n",
      "dtypes: float64(8), int64(4), object(13)\n",
      "memory usage: 16.6+ MB\n"
     ]
    }
   ],
   "source": [
    "#Sprawdzenie zbioru \n",
    "data.info()"
   ]
  },
  {
   "cell_type": "markdown",
   "metadata": {
    "collapsed": true
   },
   "source": [
    "### Część 1 - przekształcenia oraz wstępna analiza zmiennych"
   ]
  },
  {
   "cell_type": "code",
   "execution_count": 3,
   "metadata": {},
   "outputs": [
    {
     "name": "stdout",
     "output_type": "stream",
     "text": [
      "0        42\n",
      "1        35\n",
      "2        39\n",
      "3        33\n",
      "4        36\n",
      "         ..\n",
      "87015    51\n",
      "87016    30\n",
      "87017    48\n",
      "87018    43\n",
      "87019    32\n",
      "Name: AGE, Length: 87020, dtype: int64\n",
      "0        2002.0\n",
      "1        2013.0\n",
      "2        1998.0\n",
      "3        2008.0\n",
      "4        1997.0\n",
      "          ...  \n",
      "87015    1925.0\n",
      "87016    1925.0\n",
      "87017    1925.0\n",
      "87018    1925.0\n",
      "87019    1925.0\n",
      "Name: Days_Since_Creation, Length: 87020, dtype: float64\n"
     ]
    }
   ],
   "source": [
    "# Zamieniam zmienną DOB (data urodzenia) na wiek\n",
    "\n",
    "from datetime import datetime\n",
    "from datetime import date\n",
    "\n",
    "def calculate_age(dob):\n",
    "    dob = datetime.strptime(dob, \"%d-%b-%y\").date()\n",
    "    today = date.today()\n",
    "    return abs(today.year - dob.year)\n",
    "\n",
    "data['AGE'] = data['DOB'].apply(calculate_age)\n",
    "print(data['AGE']) \n",
    "\n",
    "\n",
    "# Zmienna Lead_Creation_date zamieniam na zmienna numeryczna - ile dni minęło od daty złożenia wniosku\n",
    "\n",
    "def calculate_days(date_start):\n",
    "    date_start = datetime.strptime(date_start, \"%d-%b-%y\").date()\n",
    "    today = date.today()\n",
    "    return today - date_start \n",
    "\n",
    "data['Days_Since_Creation'] = data['Lead_Creation_Date'].apply(calculate_days).astype('timedelta64[D]')\n",
    "print(data['Days_Since_Creation']) "
   ]
  },
  {
   "cell_type": "code",
   "execution_count": 4,
   "metadata": {},
   "outputs": [
    {
     "data": {
      "text/plain": [
       "Delhi        12527\n",
       "Bengaluru    10824\n",
       "Mumbai       10795\n",
       "Hyderabad     7272\n",
       "Chennai       6916\n",
       "             ...  \n",
       "UDWADA           1\n",
       "Siruguppa        1\n",
       "Champawat        1\n",
       "Seoni            1\n",
       "Gadwal           1\n",
       "Name: City, Length: 697, dtype: int64"
      ]
     },
     "execution_count": 4,
     "metadata": {},
     "output_type": "execute_result"
    }
   ],
   "source": [
    "# Sprawdzam zmienne kategoryczne, jakie mają przypisane wartości - żeby ewentualnie skonstruować właściwe transformery\n",
    "## Zmienna City\n",
    "\n",
    "data['City'].value_counts()\n",
    "\n",
    "#Jest dużo wartości zmiennej, ale jest kilka dużych miast, dla reszty można przypisać wspólną wartość\n"
   ]
  },
  {
   "cell_type": "code",
   "execution_count": 5,
   "metadata": {},
   "outputs": [
    {
     "data": {
      "text/plain": [
       "0                                               4914\n",
       "TATA CONSULTANCY SERVICES LTD (TCS)              550\n",
       "COGNIZANT TECHNOLOGY SOLUTIONS INDIA PVT LTD     404\n",
       "ACCENTURE SERVICES PVT LTD                       324\n",
       "GOOGLE                                           301\n",
       "                                                ... \n",
       "DIRECT INFORMATION PVT LTD                         1\n",
       "COMMUNITYCOORDINATOR. IKP DRDA                     1\n",
       "VERITAZ HEALTHCARE LTD                             1\n",
       "JCDV                                               1\n",
       "HAVEUS SOLUTIONS PVT LTD                           1\n",
       "Name: Employer_Name, Length: 43567, dtype: int64"
      ]
     },
     "execution_count": 5,
     "metadata": {},
     "output_type": "execute_result"
    }
   ],
   "source": [
    "##Zmienna Employer_name\n",
    "data['Employer_Name'].value_counts()\n",
    "\n",
    "#głównie 0, kilku pracodawców najbardziej popularnych "
   ]
  },
  {
   "cell_type": "code",
   "execution_count": 6,
   "metadata": {},
   "outputs": [
    {
     "data": {
      "text/plain": [
       "Male      49848\n",
       "Female    37172\n",
       "Name: Gender, dtype: int64"
      ]
     },
     "execution_count": 6,
     "metadata": {},
     "output_type": "execute_result"
    }
   ],
   "source": [
    "##Zmienna Gender \n",
    "\n",
    "data['Gender'].value_counts()\n",
    "\n",
    "#0 missingów"
   ]
  },
  {
   "cell_type": "code",
   "execution_count": 7,
   "metadata": {},
   "outputs": [
    {
     "data": {
      "text/plain": [
       "Y    56481\n",
       "N    30539\n",
       "Name: Mobile_Verified, dtype: int64"
      ]
     },
     "execution_count": 7,
     "metadata": {},
     "output_type": "execute_result"
    }
   ],
   "source": [
    "##Zmienna Mobile_Verified  \n",
    "\n",
    "data['Mobile_Verified'].value_counts()\n",
    "\n",
    "# 0 missingów"
   ]
  },
  {
   "cell_type": "code",
   "execution_count": 8,
   "metadata": {},
   "outputs": [
    {
     "data": {
      "text/plain": [
       "N    67530\n",
       "Y    19490\n",
       "Name: Filled_Form, dtype: int64"
      ]
     },
     "execution_count": 8,
     "metadata": {},
     "output_type": "execute_result"
    }
   ],
   "source": [
    "##Zmienna Filled_Form  \n",
    "\n",
    "data['Filled_Form'].value_counts()\n",
    "\n",
    "# 0 missingów"
   ]
  },
  {
   "cell_type": "code",
   "execution_count": 9,
   "metadata": {},
   "outputs": [
    {
     "data": {
      "text/plain": [
       "Web-browser    64316\n",
       "Mobile         22704\n",
       "Name: Device_Type, dtype: int64"
      ]
     },
     "execution_count": 9,
     "metadata": {},
     "output_type": "execute_result"
    }
   ],
   "source": [
    "##Zmienna Device_Type  \n",
    "\n",
    "data['Device_Type'].value_counts()\n",
    "\n",
    "# 0 missingów"
   ]
  },
  {
   "cell_type": "code",
   "execution_count": 10,
   "metadata": {},
   "outputs": [
    {
     "data": {
      "text/plain": [
       "HDFC Bank                                          17695\n",
       "ICICI Bank                                         13636\n",
       "State Bank of India                                11843\n",
       "Axis Bank                                           8783\n",
       "Citibank                                            2376\n",
       "Kotak Bank                                          2067\n",
       "IDBI Bank                                           1550\n",
       "Punjab National Bank                                1201\n",
       "Bank of India                                       1170\n",
       "Bank of Baroda                                      1126\n",
       "Standard Chartered Bank                              995\n",
       "Canara Bank                                          990\n",
       "Union Bank of India                                  951\n",
       "Yes Bank                                             779\n",
       "ING Vysya                                            678\n",
       "Corporation bank                                     649\n",
       "Indian Overseas Bank                                 612\n",
       "State Bank of Hyderabad                              597\n",
       "Indian Bank                                          555\n",
       "Oriental Bank of Commerce                            524\n",
       "IndusInd Bank                                        503\n",
       "Andhra Bank                                          485\n",
       "Central Bank of India                                445\n",
       "Syndicate Bank                                       415\n",
       "Bank of Maharasthra                                  406\n",
       "State Bank of Bikaner & Jaipur                       331\n",
       "HSBC                                                 328\n",
       "Karur Vysya Bank                                     326\n",
       "State Bank of Mysore                                 255\n",
       "Federal Bank                                         253\n",
       "Vijaya Bank                                          252\n",
       "Allahabad Bank                                       238\n",
       "UCO Bank                                             237\n",
       "State Bank of Travancore                             227\n",
       "Karnataka Bank                                       200\n",
       "Saraswat Bank                                        195\n",
       "United Bank of India                                 183\n",
       "Dena Bank                                            182\n",
       "State Bank of Patiala                                177\n",
       "South Indian Bank                                    160\n",
       "Deutsche Bank                                        125\n",
       "Abhyuday Co-op Bank Ltd                              108\n",
       "The Ratnakar Bank Ltd                                 83\n",
       "Tamil Nadu Mercantile Bank                            71\n",
       "Punjab & Sind bank                                    66\n",
       "J&K Bank                                              59\n",
       "Lakshmi Vilas bank                                    50\n",
       "Dhanalakshmi Bank Ltd                                 42\n",
       "State Bank of Indore                                  18\n",
       "Catholic Syrian Bank                                  14\n",
       "India Bulls                                           11\n",
       "GIC Housing Finance Ltd                                8\n",
       "B N P Paribas                                          8\n",
       "Firstrand Bank Limited                                 7\n",
       "Bank of Rajasthan                                      5\n",
       "Kerala Gramin Bank                                     4\n",
       "Industrial And Commercial Bank Of China Limited        2\n",
       "Name: Salary_Account, dtype: int64"
      ]
     },
     "execution_count": 10,
     "metadata": {},
     "output_type": "execute_result"
    }
   ],
   "source": [
    "##Zmienna Salary_Account\n",
    "data['Salary_Account'].value_counts()\n",
    "\n",
    "#Kilka najpopularniejszych banków, zero missingów"
   ]
  },
  {
   "cell_type": "code",
   "execution_count": 11,
   "metadata": {},
   "outputs": [
    {
     "data": {
      "text/plain": [
       "HBXX    59294\n",
       "HBXC     9010\n",
       "HBXB     4479\n",
       "HAXA     2909\n",
       "HBXA     2123\n",
       "HAXB     2011\n",
       "HBXD     1964\n",
       "HAXC     1536\n",
       "HBXH      970\n",
       "HCXF      722\n",
       "HAYT      508\n",
       "HAVC      384\n",
       "HAXM      268\n",
       "HCXD      237\n",
       "HCYS      217\n",
       "HVYS      186\n",
       "HAZD      109\n",
       "HCXG       78\n",
       "HAXF       15\n",
       "Name: Var1, dtype: int64"
      ]
     },
     "execution_count": 11,
     "metadata": {},
     "output_type": "execute_result"
    }
   ],
   "source": [
    "##Zmienna Var1\n",
    "data['Var1'].value_counts()\n",
    "\n",
    "#Kilka najpopularniejszych wartości"
   ]
  },
  {
   "cell_type": "code",
   "execution_count": 12,
   "metadata": {},
   "outputs": [
    {
     "data": {
      "text/plain": [
       "B    37280\n",
       "G    33032\n",
       "C    14210\n",
       "E     1315\n",
       "D      634\n",
       "F      544\n",
       "A        5\n",
       "Name: Var2, dtype: int64"
      ]
     },
     "execution_count": 12,
     "metadata": {},
     "output_type": "execute_result"
    }
   ],
   "source": [
    "##Zmienna Var2\n",
    "data['Var2'].value_counts()\n",
    "\n",
    "#7 wartości"
   ]
  },
  {
   "cell_type": "code",
   "execution_count": 13,
   "metadata": {},
   "outputs": [
    {
     "data": {
      "text/plain": [
       "S122    38567\n",
       "S133    29885\n",
       "S159     5599\n",
       "S143     4332\n",
       "S127     1931\n",
       "S137     1724\n",
       "S134     1301\n",
       "S161      769\n",
       "S151      720\n",
       "S157      650\n",
       "S153      494\n",
       "S156      308\n",
       "S144      299\n",
       "S158      208\n",
       "S123       73\n",
       "S141       57\n",
       "S162       36\n",
       "S124       24\n",
       "S160       11\n",
       "S150       10\n",
       "S155        4\n",
       "S138        3\n",
       "S136        3\n",
       "S129        3\n",
       "S139        3\n",
       "S135        2\n",
       "S154        1\n",
       "S130        1\n",
       "S125        1\n",
       "S140        1\n",
       "Name: Source, dtype: int64"
      ]
     },
     "execution_count": 13,
     "metadata": {},
     "output_type": "execute_result"
    }
   ],
   "source": [
    "##Zmienna Source\n",
    "data['Source'].value_counts()\n",
    "\n",
    "#Kilka najpopularniejszych wartości "
   ]
  },
  {
   "cell_type": "code",
   "execution_count": 14,
   "metadata": {},
   "outputs": [
    {
     "data": {
      "text/plain": [
       "3    25260\n",
       "1    23906\n",
       "5    20266\n",
       "4     6577\n",
       "2     5931\n",
       "0     2546\n",
       "7     2302\n",
       "6      232\n",
       "Name: Var4, dtype: int64"
      ]
     },
     "execution_count": 14,
     "metadata": {},
     "output_type": "execute_result"
    }
   ],
   "source": [
    "##Zmienna Var4\n",
    "data['Var4'].value_counts() \n",
    "\n",
    "#8 wartosci"
   ]
  },
  {
   "cell_type": "markdown",
   "metadata": {},
   "source": [
    "Podsumowując:\n",
    "Zmienne City, Employer_Name, Salary_Account, Source zostaną zamienione na zmienne numeryczne.\n",
    "Zmienne Var1, Var2, Var4 zostaną wyrzucone ze zbioru. \n",
    "Reszta zmiennych kategorycznych zostanie zamieniona na dummy variables (OneHoTEncoder)."
   ]
  },
  {
   "cell_type": "code",
   "execution_count": 15,
   "metadata": {},
   "outputs": [
    {
     "name": "stdout",
     "output_type": "stream",
     "text": [
      "Index(['Delhi', 'Bengaluru', 'Mumbai', 'Hyderabad', 'Chennai', 'Pune',\n",
      "       'Kolkata', 'Ahmedabad', 'Jaipur', 'Gurgaon'],\n",
      "      dtype='object')\n"
     ]
    }
   ],
   "source": [
    "##Aplikacja zmian do zmiennych kategorycznych \n",
    "\n",
    "#Zmienna City - mapujemy 10 najczęstszych miast na zmienne 1-10, reszta będzie miała przypisane 0\n",
    "\n",
    "cities = data[\"City\"].value_counts().index[:10]\n",
    "print(cities) "
   ]
  },
  {
   "cell_type": "code",
   "execution_count": 16,
   "metadata": {},
   "outputs": [
    {
     "data": {
      "text/html": [
       "<div>\n",
       "<style scoped>\n",
       "    .dataframe tbody tr th:only-of-type {\n",
       "        vertical-align: middle;\n",
       "    }\n",
       "\n",
       "    .dataframe tbody tr th {\n",
       "        vertical-align: top;\n",
       "    }\n",
       "\n",
       "    .dataframe thead th {\n",
       "        text-align: right;\n",
       "    }\n",
       "</style>\n",
       "<table border=\"1\" class=\"dataframe\">\n",
       "  <thead>\n",
       "    <tr style=\"text-align: right;\">\n",
       "      <th></th>\n",
       "      <th>ID</th>\n",
       "      <th>Gender</th>\n",
       "      <th>City</th>\n",
       "      <th>Monthly_Income</th>\n",
       "      <th>DOB</th>\n",
       "      <th>Lead_Creation_Date</th>\n",
       "      <th>Loan_Amount_Applied</th>\n",
       "      <th>Loan_Tenure_Applied</th>\n",
       "      <th>Existing_EMI</th>\n",
       "      <th>Employer_Name</th>\n",
       "      <th>...</th>\n",
       "      <th>Processing_Fee</th>\n",
       "      <th>EMI_Loan_Submitted</th>\n",
       "      <th>Filled_Form</th>\n",
       "      <th>Device_Type</th>\n",
       "      <th>Var2</th>\n",
       "      <th>Source</th>\n",
       "      <th>Var4</th>\n",
       "      <th>Disbursed</th>\n",
       "      <th>AGE</th>\n",
       "      <th>Days_Since_Creation</th>\n",
       "    </tr>\n",
       "  </thead>\n",
       "  <tbody>\n",
       "    <tr>\n",
       "      <th>0</th>\n",
       "      <td>ID000002C20</td>\n",
       "      <td>Female</td>\n",
       "      <td>1</td>\n",
       "      <td>20000</td>\n",
       "      <td>23-May-78</td>\n",
       "      <td>15-May-15</td>\n",
       "      <td>300000.0</td>\n",
       "      <td>5.0</td>\n",
       "      <td>0.0</td>\n",
       "      <td>CYBOSOL</td>\n",
       "      <td>...</td>\n",
       "      <td>NaN</td>\n",
       "      <td>NaN</td>\n",
       "      <td>N</td>\n",
       "      <td>Web-browser</td>\n",
       "      <td>G</td>\n",
       "      <td>S122</td>\n",
       "      <td>1</td>\n",
       "      <td>0</td>\n",
       "      <td>42</td>\n",
       "      <td>2002.0</td>\n",
       "    </tr>\n",
       "    <tr>\n",
       "      <th>1</th>\n",
       "      <td>ID000004E40</td>\n",
       "      <td>Male</td>\n",
       "      <td>3</td>\n",
       "      <td>35000</td>\n",
       "      <td>07-Oct-85</td>\n",
       "      <td>04-May-15</td>\n",
       "      <td>200000.0</td>\n",
       "      <td>2.0</td>\n",
       "      <td>0.0</td>\n",
       "      <td>TATA CONSULTANCY SERVICES LTD (TCS)</td>\n",
       "      <td>...</td>\n",
       "      <td>NaN</td>\n",
       "      <td>6762.9</td>\n",
       "      <td>N</td>\n",
       "      <td>Web-browser</td>\n",
       "      <td>G</td>\n",
       "      <td>S122</td>\n",
       "      <td>3</td>\n",
       "      <td>0</td>\n",
       "      <td>35</td>\n",
       "      <td>2013.0</td>\n",
       "    </tr>\n",
       "    <tr>\n",
       "      <th>2</th>\n",
       "      <td>ID000007H20</td>\n",
       "      <td>Male</td>\n",
       "      <td>0</td>\n",
       "      <td>22500</td>\n",
       "      <td>10-Oct-81</td>\n",
       "      <td>19-May-15</td>\n",
       "      <td>600000.0</td>\n",
       "      <td>4.0</td>\n",
       "      <td>0.0</td>\n",
       "      <td>ALCHEMIST HOSPITALS LTD</td>\n",
       "      <td>...</td>\n",
       "      <td>NaN</td>\n",
       "      <td>NaN</td>\n",
       "      <td>N</td>\n",
       "      <td>Web-browser</td>\n",
       "      <td>B</td>\n",
       "      <td>S143</td>\n",
       "      <td>1</td>\n",
       "      <td>0</td>\n",
       "      <td>39</td>\n",
       "      <td>1998.0</td>\n",
       "    </tr>\n",
       "    <tr>\n",
       "      <th>3</th>\n",
       "      <td>ID000008I30</td>\n",
       "      <td>Male</td>\n",
       "      <td>0</td>\n",
       "      <td>35000</td>\n",
       "      <td>30-Nov-87</td>\n",
       "      <td>09-May-15</td>\n",
       "      <td>1000000.0</td>\n",
       "      <td>5.0</td>\n",
       "      <td>0.0</td>\n",
       "      <td>BIHAR GOVERNMENT</td>\n",
       "      <td>...</td>\n",
       "      <td>NaN</td>\n",
       "      <td>NaN</td>\n",
       "      <td>N</td>\n",
       "      <td>Web-browser</td>\n",
       "      <td>B</td>\n",
       "      <td>S143</td>\n",
       "      <td>3</td>\n",
       "      <td>0</td>\n",
       "      <td>33</td>\n",
       "      <td>2008.0</td>\n",
       "    </tr>\n",
       "    <tr>\n",
       "      <th>4</th>\n",
       "      <td>ID000009J40</td>\n",
       "      <td>Male</td>\n",
       "      <td>2</td>\n",
       "      <td>100000</td>\n",
       "      <td>17-Feb-84</td>\n",
       "      <td>20-May-15</td>\n",
       "      <td>500000.0</td>\n",
       "      <td>2.0</td>\n",
       "      <td>25000.0</td>\n",
       "      <td>GLOBAL EDGE SOFTWARE</td>\n",
       "      <td>...</td>\n",
       "      <td>NaN</td>\n",
       "      <td>NaN</td>\n",
       "      <td>N</td>\n",
       "      <td>Web-browser</td>\n",
       "      <td>B</td>\n",
       "      <td>S134</td>\n",
       "      <td>3</td>\n",
       "      <td>0</td>\n",
       "      <td>36</td>\n",
       "      <td>1997.0</td>\n",
       "    </tr>\n",
       "  </tbody>\n",
       "</table>\n",
       "<p>5 rows × 27 columns</p>\n",
       "</div>"
      ],
      "text/plain": [
       "            ID  Gender  City  Monthly_Income        DOB Lead_Creation_Date  \\\n",
       "0  ID000002C20  Female     1           20000  23-May-78          15-May-15   \n",
       "1  ID000004E40    Male     3           35000  07-Oct-85          04-May-15   \n",
       "2  ID000007H20    Male     0           22500  10-Oct-81          19-May-15   \n",
       "3  ID000008I30    Male     0           35000  30-Nov-87          09-May-15   \n",
       "4  ID000009J40    Male     2          100000  17-Feb-84          20-May-15   \n",
       "\n",
       "   Loan_Amount_Applied  Loan_Tenure_Applied  Existing_EMI  \\\n",
       "0             300000.0                  5.0           0.0   \n",
       "1             200000.0                  2.0           0.0   \n",
       "2             600000.0                  4.0           0.0   \n",
       "3            1000000.0                  5.0           0.0   \n",
       "4             500000.0                  2.0       25000.0   \n",
       "\n",
       "                         Employer_Name  ... Processing_Fee EMI_Loan_Submitted  \\\n",
       "0                              CYBOSOL  ...            NaN                NaN   \n",
       "1  TATA CONSULTANCY SERVICES LTD (TCS)  ...            NaN             6762.9   \n",
       "2              ALCHEMIST HOSPITALS LTD  ...            NaN                NaN   \n",
       "3                     BIHAR GOVERNMENT  ...            NaN                NaN   \n",
       "4                 GLOBAL EDGE SOFTWARE  ...            NaN                NaN   \n",
       "\n",
       "   Filled_Form  Device_Type  Var2  Source  Var4  Disbursed  AGE  \\\n",
       "0            N  Web-browser     G    S122     1          0   42   \n",
       "1            N  Web-browser     G    S122     3          0   35   \n",
       "2            N  Web-browser     B    S143     1          0   39   \n",
       "3            N  Web-browser     B    S143     3          0   33   \n",
       "4            N  Web-browser     B    S134     3          0   36   \n",
       "\n",
       "  Days_Since_Creation  \n",
       "0              2002.0  \n",
       "1              2013.0  \n",
       "2              1998.0  \n",
       "3              2008.0  \n",
       "4              1997.0  \n",
       "\n",
       "[5 rows x 27 columns]"
      ]
     },
     "execution_count": 16,
     "metadata": {},
     "output_type": "execute_result"
    }
   ],
   "source": [
    "data.loc[~data[\"City\"].isin(cities), \"City\" ] = 'Other' \n",
    "\n",
    "cleanup_cities = {\"City\":     {'Other': 0, 'Delhi': 1, 'Bengaluru': 2, 'Mumbai': 3, 'Hyderabad': 4, 'Chennai': 5, 'Pune': 6,\n",
    "       'Kolkata': 7, 'Ahmedabad': 8, 'Jaipur': 9, 'Gurgaon': 10}}\n",
    "data.replace(cleanup_cities, inplace=True)\n",
    "data.head()\n"
   ]
  },
  {
   "cell_type": "code",
   "execution_count": 17,
   "metadata": {},
   "outputs": [
    {
     "name": "stdout",
     "output_type": "stream",
     "text": [
      "Index(['TATA CONSULTANCY SERVICES LTD (TCS)',\n",
      "       'COGNIZANT TECHNOLOGY SOLUTIONS INDIA PVT LTD',\n",
      "       'ACCENTURE SERVICES PVT LTD', 'GOOGLE', 'HCL TECHNOLOGIES LTD',\n",
      "       'ICICI BANK LTD', 'INDIAN AIR FORCE', 'INFOSYS TECHNOLOGIES', 'GENPACT',\n",
      "       'IBM CORPORATION', 'INDIAN ARMY', 'TYPE SLOWLY FOR AUTO FILL',\n",
      "       'WIPRO TECHNOLOGIES', 'HDFC BANK LTD',\n",
      "       'IKYA HUMAN CAPITAL SOLUTIONS LTD', 'STATE GOVERNMENT',\n",
      "       'INDIAN RAILWAY', 'INDIAN NAVY', 'ARMY'],\n",
      "      dtype='object')\n"
     ]
    }
   ],
   "source": [
    "#Zmienna Employer_Name - mapujemy 20 najczęstszych Employer_Name na zmienne 1-20, reszta będzie miała przypisane 0\n",
    "employers = data[\"Employer_Name\"].value_counts().index[1:20] #bo 0 będzie najwyżej\n",
    "print(employers) "
   ]
  },
  {
   "cell_type": "code",
   "execution_count": 18,
   "metadata": {},
   "outputs": [
    {
     "data": {
      "text/plain": [
       "0    0\n",
       "1    1\n",
       "2    0\n",
       "3    0\n",
       "4    0\n",
       "Name: Employer_Name, dtype: int64"
      ]
     },
     "execution_count": 18,
     "metadata": {},
     "output_type": "execute_result"
    }
   ],
   "source": [
    "data.loc[~data[\"Employer_Name\"].isin(employers), \"Employer_Name\" ] = 'Other' \n",
    "\n",
    "cleanup_employers = {\"Employer_Name\":     {'Other': 0, 'TATA CONSULTANCY SERVICES LTD (TCS)': 1,\n",
    "       'COGNIZANT TECHNOLOGY SOLUTIONS INDIA PVT LTD': 2,\n",
    "       'ACCENTURE SERVICES PVT LTD': 3, 'GOOGLE': 4, 'HCL TECHNOLOGIES LTD': 5,\n",
    "       'ICICI BANK LTD': 6, 'INDIAN AIR FORCE': 7, 'INFOSYS TECHNOLOGIES': 8, 'GENPACT': 9,\n",
    "       'IBM CORPORATION': 10, 'INDIAN ARMY': 11, 'TYPE SLOWLY FOR AUTO FILL': 12,\n",
    "       'WIPRO TECHNOLOGIES': 13, 'HDFC BANK LTD': 14,\n",
    "       'IKYA HUMAN CAPITAL SOLUTIONS LTD': 15, 'STATE GOVERNMENT': 16,\n",
    "       'INDIAN RAILWAY': 17, 'INDIAN NAVY': 18, 'ARMY': 19, 'WIPRO BPO': 20}}\n",
    "data.replace(cleanup_employers, inplace=True)\n",
    "data[\"Employer_Name\"].head()\n"
   ]
  },
  {
   "cell_type": "code",
   "execution_count": 19,
   "metadata": {},
   "outputs": [
    {
     "name": "stdout",
     "output_type": "stream",
     "text": [
      "Index(['HDFC Bank', 'ICICI Bank', 'State Bank of India', 'Axis Bank',\n",
      "       'Citibank', 'Kotak Bank', 'IDBI Bank', 'Punjab National Bank',\n",
      "       'Bank of India', 'Bank of Baroda'],\n",
      "      dtype='object')\n"
     ]
    }
   ],
   "source": [
    "#Zmienna Salary_Account - mapujemy 10 najczęstszych Salary_Account na zmienne 1-10, reszta będzie miała przypisane 0\n",
    "\n",
    "accounts = data[\"Salary_Account\"].value_counts().index[:10]\n",
    "print(accounts) "
   ]
  },
  {
   "cell_type": "code",
   "execution_count": 20,
   "metadata": {},
   "outputs": [
    {
     "data": {
      "text/plain": [
       "0    1\n",
       "1    2\n",
       "2    3\n",
       "3    3\n",
       "4    1\n",
       "Name: Salary_Account, dtype: int64"
      ]
     },
     "execution_count": 20,
     "metadata": {},
     "output_type": "execute_result"
    }
   ],
   "source": [
    "data.loc[~data[\"Salary_Account\"].isin(accounts), \"Salary_Account\" ] = 'Other' \n",
    "\n",
    "cleanup_accounts = {\"Salary_Account\":     {'Other': 0, 'HDFC Bank': 1, 'ICICI Bank': 2, 'State Bank of India': 3, 'Axis Bank': 4,\n",
    "       'Citibank':5 , 'Kotak Bank': 6, 'IDBI Bank': 7, 'Punjab National Bank': 8,\n",
    "       'Bank of India': 9, 'Bank of Baroda': 10}}\n",
    "data.replace(cleanup_accounts, inplace=True)\n",
    "data[\"Salary_Account\"].head()"
   ]
  },
  {
   "cell_type": "code",
   "execution_count": 21,
   "metadata": {},
   "outputs": [
    {
     "name": "stdout",
     "output_type": "stream",
     "text": [
      "Index(['S122', 'S133', 'S159', 'S143', 'S127', 'S137', 'S134', 'S161', 'S151',\n",
      "       'S157'],\n",
      "      dtype='object')\n"
     ]
    }
   ],
   "source": [
    "#Zmienna Source - mapujemy 10 najczęstszych Source na zmienne 1-10, reszta będzie miała przypisane 0\n",
    "\n",
    "sources = data[\"Source\"].value_counts().index[:10]\n",
    "print(sources) "
   ]
  },
  {
   "cell_type": "code",
   "execution_count": 22,
   "metadata": {},
   "outputs": [
    {
     "data": {
      "text/plain": [
       "0    1\n",
       "1    1\n",
       "2    4\n",
       "3    4\n",
       "4    7\n",
       "Name: Source, dtype: int64"
      ]
     },
     "execution_count": 22,
     "metadata": {},
     "output_type": "execute_result"
    }
   ],
   "source": [
    "data.loc[~data[\"Source\"].isin(sources), \"Source\" ] = 'Other' \n",
    "\n",
    "cleanup_sources = {\"Source\":     {'Other': 0, 'S122': 1, 'S133': 2, 'S159': 3, 'S143': 4, 'S127': 5, \n",
    "                                  'S137': 6, 'S134': 7, 'S161': 8, 'S151': 9, 'S157': 10}}\n",
    "data.replace(cleanup_sources, inplace=True)\n",
    "data[\"Source\"].head()"
   ]
  },
  {
   "cell_type": "code",
   "execution_count": 23,
   "metadata": {},
   "outputs": [
    {
     "data": {
      "image/png": "[encoded data removed]",
      "text/plain": [
       "<Figure size 432x288 with 1 Axes>"
      ]
     },
     "metadata": {
      "needs_background": "light"
     },
     "output_type": "display_data"
    }
   ],
   "source": [
    "# Sprawdzam jak wyglądają rozkłady poszczególnych zmiennych numerycznych za pomocą wykresów \n",
    "# Na ich podstawie będzie można stwierdzić, czy niezbędne są przekształcenia pewnych zmiennych\n",
    "\n",
    "## Zmienna Monthly_Income \n",
    "\n",
    "plt.figure()\n",
    "plt.yscale('log')\n",
    "hist = sns.distplot(a=data[\"Monthly_Income\"], hist=True, kde=False)\n",
    "hist.set(title='Histogram '); \n",
    "\n",
    "#Rozkład prawoskośny - zostanie zastosowane przekształcenie w postaci logarytmu naturalnego"
   ]
  },
  {
   "cell_type": "code",
   "execution_count": 24,
   "metadata": {},
   "outputs": [
    {
     "data": {
      "image/png": "[encoded data removed]",
      "text/plain": [
       "<Figure size 432x288 with 1 Axes>"
      ]
     },
     "metadata": {
      "needs_background": "light"
     },
     "output_type": "display_data"
    }
   ],
   "source": [
    "## Zmienna Loan_Amount_Applied \n",
    "plt.figure()\n",
    "plt.yscale('log')\n",
    "hist = sns.distplot(a=data[\"Loan_Amount_Applied\"], hist=True, kde=False)\n",
    "hist.set(title='Histogram '); \n",
    "\n",
    "#Rozkład prawoskośny - zostanie zaaplikowane przekształcenie w postaci logarytmu naturalnego"
   ]
  },
  {
   "cell_type": "code",
   "execution_count": 25,
   "metadata": {},
   "outputs": [
    {
     "data": {
      "image/png": "[encoded data removed]",
      "text/plain": [
       "<Figure size 432x288 with 1 Axes>"
      ]
     },
     "metadata": {
      "needs_background": "light"
     },
     "output_type": "display_data"
    }
   ],
   "source": [
    "## Zmienna Existing_EMI   \n",
    "plt.figure()\n",
    "plt.yscale('log')\n",
    "hist = sns.distplot(a=data[\"Existing_EMI\"], hist=True, kde=False)\n",
    "hist.set(title='Histogram ');  \n",
    "\n",
    "#Rozkład prawoskośny - przekształcenie w postaci pierwiastkowania"
   ]
  },
  {
   "cell_type": "code",
   "execution_count": 26,
   "metadata": {},
   "outputs": [
    {
     "data": {
      "text/plain": [
       "array([[<matplotlib.axes._subplots.AxesSubplot object at 0x000001E610ECE250>]],\n",
       "      dtype=object)"
      ]
     },
     "execution_count": 26,
     "metadata": {},
     "output_type": "execute_result"
    },
    {
     "data": {
      "image/png": "[encoded data removed]",
      "text/plain": [
       "<Figure size 432x288 with 1 Axes>"
      ]
     },
     "metadata": {
      "needs_background": "light"
     },
     "output_type": "display_data"
    }
   ],
   "source": [
    "## Zmienna Loan_Tenure_Applied  \n",
    "data.hist(column='Loan_Tenure_Applied', bins=25)\n",
    "\n",
    "#Brak zmian"
   ]
  },
  {
   "cell_type": "code",
   "execution_count": 27,
   "metadata": {},
   "outputs": [
    {
     "data": {
      "image/png": "[encoded data removed]",
      "text/plain": [
       "<Figure size 432x288 with 1 Axes>"
      ]
     },
     "metadata": {
      "needs_background": "light"
     },
     "output_type": "display_data"
    }
   ],
   "source": [
    "## Zmienna Loan_Amount_Submitted   \n",
    "plt.figure()\n",
    "plt.yscale('log')\n",
    "hist = sns.distplot(a=data[\"Loan_Amount_Submitted\"], hist=True, kde=False)\n",
    "hist.set(title='Histogram '); \n",
    "\n",
    "#Rozkład prawoskośny - przekształcenie w postaci logarytmu naturalnego"
   ]
  },
  {
   "cell_type": "code",
   "execution_count": 28,
   "metadata": {},
   "outputs": [
    {
     "data": {
      "text/plain": [
       "array([[<matplotlib.axes._subplots.AxesSubplot object at 0x000001E6110B5310>]],\n",
       "      dtype=object)"
      ]
     },
     "execution_count": 28,
     "metadata": {},
     "output_type": "execute_result"
    },
    {
     "data": {
      "image/png": "[encoded data removed]",
      "text/plain": [
       "<Figure size 432x288 with 1 Axes>"
      ]
     },
     "metadata": {
      "needs_background": "light"
     },
     "output_type": "display_data"
    }
   ],
   "source": [
    "## Zmienna Loan_Tenure_Submitted   \n",
    "data.hist(column='Loan_Tenure_Submitted')\n",
    "\n",
    "#Nie zostanie zastosowane przekształcenie"
   ]
  },
  {
   "cell_type": "code",
   "execution_count": 29,
   "metadata": {},
   "outputs": [
    {
     "data": {
      "text/plain": [
       "array([[<matplotlib.axes._subplots.AxesSubplot object at 0x000001E611170070>]],\n",
       "      dtype=object)"
      ]
     },
     "execution_count": 29,
     "metadata": {},
     "output_type": "execute_result"
    },
    {
     "data": {
      "image/png": "[encoded data removed]",
      "text/plain": [
       "<Figure size 432x288 with 1 Axes>"
      ]
     },
     "metadata": {
      "needs_background": "light"
     },
     "output_type": "display_data"
    }
   ],
   "source": [
    "## Zmienna Interest_Rate   \n",
    "data.hist(column='Interest_Rate')\n",
    "\n",
    "#Nie zostanie zastosowane przekształcenie"
   ]
  },
  {
   "cell_type": "code",
   "execution_count": 30,
   "metadata": {},
   "outputs": [
    {
     "data": {
      "image/png": "[encoded data removed]",
      "text/plain": [
       "<Figure size 432x288 with 1 Axes>"
      ]
     },
     "metadata": {
      "needs_background": "light"
     },
     "output_type": "display_data"
    }
   ],
   "source": [
    "## Zmienna Processing_Fee   \n",
    "plt.figure()\n",
    "plt.yscale('log')\n",
    "hist = sns.distplot(a=data[\"Processing_Fee\"], hist=True, kde=False)\n",
    "hist.set(title='Histogram ');  \n",
    "\n",
    "#Rozkład prawoskośny - przekształcenie w postaci pierwiastkowania"
   ]
  },
  {
   "cell_type": "code",
   "execution_count": 31,
   "metadata": {},
   "outputs": [
    {
     "data": {
      "image/png": "[encoded data removed]",
      "text/plain": [
       "<Figure size 432x288 with 1 Axes>"
      ]
     },
     "metadata": {
      "needs_background": "light"
     },
     "output_type": "display_data"
    }
   ],
   "source": [
    "## Zmienna EMI_Loan_Submitted   \n",
    "plt.figure()\n",
    "plt.yscale('log')\n",
    "hist = sns.distplot(a=data[\"EMI_Loan_Submitted\"], hist=True, kde=False)\n",
    "hist.set(title='Histogram '); \n",
    "\n",
    "#Rozkład prawoskośny - pierwiastkowanie"
   ]
  },
  {
   "cell_type": "code",
   "execution_count": 32,
   "metadata": {},
   "outputs": [
    {
     "data": {
      "image/png": "[encoded data removed]",
      "text/plain": [
       "<Figure size 432x288 with 1 Axes>"
      ]
     },
     "metadata": {
      "needs_background": "light"
     },
     "output_type": "display_data"
    }
   ],
   "source": [
    "## Zmienna Days_Since_Creation   \n",
    "plt.figure()\n",
    "plt.yscale('log')\n",
    "hist = sns.distplot(a=data[\"Days_Since_Creation\"], hist=True, kde=False)\n",
    "hist.set(title='Histogram '); \n",
    "\n",
    "#Brak zmian"
   ]
  },
  {
   "cell_type": "code",
   "execution_count": 33,
   "metadata": {},
   "outputs": [
    {
     "data": {
      "text/html": [
       "<div>\n",
       "<style scoped>\n",
       "    .dataframe tbody tr th:only-of-type {\n",
       "        vertical-align: middle;\n",
       "    }\n",
       "\n",
       "    .dataframe tbody tr th {\n",
       "        vertical-align: top;\n",
       "    }\n",
       "\n",
       "    .dataframe thead th {\n",
       "        text-align: right;\n",
       "    }\n",
       "</style>\n",
       "<table border=\"1\" class=\"dataframe\">\n",
       "  <thead>\n",
       "    <tr style=\"text-align: right;\">\n",
       "      <th></th>\n",
       "      <th>ID</th>\n",
       "      <th>Gender</th>\n",
       "      <th>City</th>\n",
       "      <th>Monthly_Income</th>\n",
       "      <th>DOB</th>\n",
       "      <th>Lead_Creation_Date</th>\n",
       "      <th>Loan_Amount_Applied</th>\n",
       "      <th>Loan_Tenure_Applied</th>\n",
       "      <th>Existing_EMI</th>\n",
       "      <th>Employer_Name</th>\n",
       "      <th>...</th>\n",
       "      <th>Processing_Fee</th>\n",
       "      <th>EMI_Loan_Submitted</th>\n",
       "      <th>Filled_Form</th>\n",
       "      <th>Device_Type</th>\n",
       "      <th>Var2</th>\n",
       "      <th>Source</th>\n",
       "      <th>Var4</th>\n",
       "      <th>Disbursed</th>\n",
       "      <th>AGE</th>\n",
       "      <th>Days_Since_Creation</th>\n",
       "    </tr>\n",
       "  </thead>\n",
       "  <tbody>\n",
       "    <tr>\n",
       "      <th>0</th>\n",
       "      <td>ID000002C20</td>\n",
       "      <td>Female</td>\n",
       "      <td>1</td>\n",
       "      <td>141.421356</td>\n",
       "      <td>23-May-78</td>\n",
       "      <td>15-May-15</td>\n",
       "      <td>547.722558</td>\n",
       "      <td>5.0</td>\n",
       "      <td>0.000000</td>\n",
       "      <td>0</td>\n",
       "      <td>...</td>\n",
       "      <td>NaN</td>\n",
       "      <td>NaN</td>\n",
       "      <td>N</td>\n",
       "      <td>Web-browser</td>\n",
       "      <td>G</td>\n",
       "      <td>1</td>\n",
       "      <td>1</td>\n",
       "      <td>0</td>\n",
       "      <td>42</td>\n",
       "      <td>2002.0</td>\n",
       "    </tr>\n",
       "    <tr>\n",
       "      <th>1</th>\n",
       "      <td>ID000004E40</td>\n",
       "      <td>Male</td>\n",
       "      <td>3</td>\n",
       "      <td>187.082869</td>\n",
       "      <td>07-Oct-85</td>\n",
       "      <td>04-May-15</td>\n",
       "      <td>447.213595</td>\n",
       "      <td>2.0</td>\n",
       "      <td>0.000000</td>\n",
       "      <td>1</td>\n",
       "      <td>...</td>\n",
       "      <td>NaN</td>\n",
       "      <td>82.236853</td>\n",
       "      <td>N</td>\n",
       "      <td>Web-browser</td>\n",
       "      <td>G</td>\n",
       "      <td>1</td>\n",
       "      <td>3</td>\n",
       "      <td>0</td>\n",
       "      <td>35</td>\n",
       "      <td>2013.0</td>\n",
       "    </tr>\n",
       "    <tr>\n",
       "      <th>2</th>\n",
       "      <td>ID000007H20</td>\n",
       "      <td>Male</td>\n",
       "      <td>0</td>\n",
       "      <td>150.000000</td>\n",
       "      <td>10-Oct-81</td>\n",
       "      <td>19-May-15</td>\n",
       "      <td>774.596669</td>\n",
       "      <td>4.0</td>\n",
       "      <td>0.000000</td>\n",
       "      <td>0</td>\n",
       "      <td>...</td>\n",
       "      <td>NaN</td>\n",
       "      <td>NaN</td>\n",
       "      <td>N</td>\n",
       "      <td>Web-browser</td>\n",
       "      <td>B</td>\n",
       "      <td>4</td>\n",
       "      <td>1</td>\n",
       "      <td>0</td>\n",
       "      <td>39</td>\n",
       "      <td>1998.0</td>\n",
       "    </tr>\n",
       "    <tr>\n",
       "      <th>3</th>\n",
       "      <td>ID000008I30</td>\n",
       "      <td>Male</td>\n",
       "      <td>0</td>\n",
       "      <td>187.082869</td>\n",
       "      <td>30-Nov-87</td>\n",
       "      <td>09-May-15</td>\n",
       "      <td>1000.000000</td>\n",
       "      <td>5.0</td>\n",
       "      <td>0.000000</td>\n",
       "      <td>0</td>\n",
       "      <td>...</td>\n",
       "      <td>NaN</td>\n",
       "      <td>NaN</td>\n",
       "      <td>N</td>\n",
       "      <td>Web-browser</td>\n",
       "      <td>B</td>\n",
       "      <td>4</td>\n",
       "      <td>3</td>\n",
       "      <td>0</td>\n",
       "      <td>33</td>\n",
       "      <td>2008.0</td>\n",
       "    </tr>\n",
       "    <tr>\n",
       "      <th>4</th>\n",
       "      <td>ID000009J40</td>\n",
       "      <td>Male</td>\n",
       "      <td>2</td>\n",
       "      <td>316.227766</td>\n",
       "      <td>17-Feb-84</td>\n",
       "      <td>20-May-15</td>\n",
       "      <td>707.106781</td>\n",
       "      <td>2.0</td>\n",
       "      <td>158.113883</td>\n",
       "      <td>0</td>\n",
       "      <td>...</td>\n",
       "      <td>NaN</td>\n",
       "      <td>NaN</td>\n",
       "      <td>N</td>\n",
       "      <td>Web-browser</td>\n",
       "      <td>B</td>\n",
       "      <td>7</td>\n",
       "      <td>3</td>\n",
       "      <td>0</td>\n",
       "      <td>36</td>\n",
       "      <td>1997.0</td>\n",
       "    </tr>\n",
       "  </tbody>\n",
       "</table>\n",
       "<p>5 rows × 27 columns</p>\n",
       "</div>"
      ],
      "text/plain": [
       "            ID  Gender  City  Monthly_Income        DOB Lead_Creation_Date  \\\n",
       "0  ID000002C20  Female     1      141.421356  23-May-78          15-May-15   \n",
       "1  ID000004E40    Male     3      187.082869  07-Oct-85          04-May-15   \n",
       "2  ID000007H20    Male     0      150.000000  10-Oct-81          19-May-15   \n",
       "3  ID000008I30    Male     0      187.082869  30-Nov-87          09-May-15   \n",
       "4  ID000009J40    Male     2      316.227766  17-Feb-84          20-May-15   \n",
       "\n",
       "   Loan_Amount_Applied  Loan_Tenure_Applied  Existing_EMI  Employer_Name  ...  \\\n",
       "0           547.722558                  5.0      0.000000              0  ...   \n",
       "1           447.213595                  2.0      0.000000              1  ...   \n",
       "2           774.596669                  4.0      0.000000              0  ...   \n",
       "3          1000.000000                  5.0      0.000000              0  ...   \n",
       "4           707.106781                  2.0    158.113883              0  ...   \n",
       "\n",
       "   Processing_Fee EMI_Loan_Submitted  Filled_Form  Device_Type  Var2  Source  \\\n",
       "0             NaN                NaN            N  Web-browser     G       1   \n",
       "1             NaN          82.236853            N  Web-browser     G       1   \n",
       "2             NaN                NaN            N  Web-browser     B       4   \n",
       "3             NaN                NaN            N  Web-browser     B       4   \n",
       "4             NaN                NaN            N  Web-browser     B       7   \n",
       "\n",
       "   Var4  Disbursed  AGE Days_Since_Creation  \n",
       "0     1          0   42              2002.0  \n",
       "1     3          0   35              2013.0  \n",
       "2     1          0   39              1998.0  \n",
       "3     3          0   33              2008.0  \n",
       "4     3          0   36              1997.0  \n",
       "\n",
       "[5 rows x 27 columns]"
      ]
     },
     "execution_count": 33,
     "metadata": {},
     "output_type": "execute_result"
    }
   ],
   "source": [
    "## Aplikuję wszystkie transformacje \n",
    "\n",
    "data['Monthly_Income'] = data['Monthly_Income'].apply(np.sqrt) \n",
    "\n",
    "data['Loan_Amount_Applied'] = data['Loan_Amount_Applied'].apply(np.sqrt) \n",
    "\n",
    "data['Existing_EMI'] = data['Existing_EMI'].apply(np.sqrt) \n",
    "\n",
    "data['Loan_Amount_Submitted'] = data['Loan_Amount_Submitted'].apply(np.log) \n",
    "\n",
    "data['Processing_Fee'] = data['Processing_Fee'].apply(np.sqrt) \n",
    "\n",
    "data['EMI_Loan_Submitted'] = data['EMI_Loan_Submitted'].apply(np.sqrt)\n",
    "\n",
    "data.head()"
   ]
  },
  {
   "cell_type": "markdown",
   "metadata": {},
   "source": [
    "# Część 2 - konstrukcja pipeline'ów"
   ]
  },
  {
   "cell_type": "code",
   "execution_count": 34,
   "metadata": {},
   "outputs": [],
   "source": [
    "## Zaimplementowane zostaną odpowiednie transofmery, które pozwolą na wybranie odpowiednich zmiennych ze zbioru \n",
    "##oraz ich przekształcenia \n",
    "\n",
    "# Transformer DropColumns, za pomocą którego będzie można usunąć zbędne kolumny\n",
    "\n",
    "class DropColumns(BaseEstimator, TransformerMixin):\n",
    "    \"\"\"\n",
    "    Transformer to drop specified columns.\n",
    "    \"\"\"\n",
    "    \n",
    "    def __init__(self, columns):\n",
    "        self.columns_to_drop = columns\n",
    "                    \n",
    "    def fit(self, X, y=None):\n",
    "        # nieużywana metoda\n",
    "        return self\n",
    "\n",
    "    def transform(self, X):\n",
    "        return X.drop(labels=self.columns_to_drop, \n",
    "                      axis=1, \n",
    "                      inplace=False)\n",
    "\n",
    "# Transformer ColumnsSelectorByType wybierający zmienne o odpowiednim typie (numeryczne, kategoryczne)\n",
    "\n",
    "class ColumnsSelectorByType(BaseEstimator, TransformerMixin):\n",
    "    \"\"\"\n",
    "    Transformer to select columns by type.\n",
    "    \"\"\"\n",
    "    \n",
    "    def __init__(self, column_types):\n",
    "        self.selected_column_types = column_types\n",
    "                    \n",
    "    def fit(self, X, y=None):\n",
    "        # nieużywana metoda\n",
    "        return self\n",
    "\n",
    "    def transform(self, X):\n",
    "        return X.select_dtypes(include=self.selected_column_types)  \n",
    "    \n",
    "# Transformer, który uzupełnia braki w zmiennych numerycznych wg. wybranej strategii\n",
    "\n",
    "class SimpleImputerWrapper(BaseEstimator, TransformerMixin):\n",
    "    def __init__(self, \n",
    "                 strategy='most_frequent', \n",
    "                 fill_value=None):\n",
    "        \n",
    "        self.imputer = SimpleImputer(strategy=strategy, \n",
    "                                     fill_value=fill_value)\n",
    "        self.columns = None\n",
    "        \n",
    "    def fit(self, X, y=None):\n",
    "        self.imputer.fit(X.values)\n",
    "        self.columns = X.columns\n",
    "        return self\n",
    "        \n",
    "    def transform(self, X):\n",
    "        return pd.DataFrame(self.imputer.transform(X.values), columns=self.columns)\n",
    "\n",
    "# Transformer, który który zamienia zmienne, w których ponad `treshold` procent obserwacji zawiera brak danych, \n",
    "#na zmienne binarne z wartościami 1, tam gdzie jest dana wartość oraz 0 tam, gdzie występuje brak.\n",
    "\n",
    "class MissingIndicatorForSparseFeatures(BaseEstimator, TransformerMixin):\n",
    "    def __init__(self, threshold: float) -> None:\n",
    "        # obsłuż dwa warianty podania thresholdu\n",
    "        if threshold > 1:\n",
    "            self.threshold = threshold/100\n",
    "        else:\n",
    "            self.threshold = threshold\n",
    "            \n",
    "        # stwórz kontener na kolumny, które zostaną przetworzone\n",
    "        self.columns_to_transform = None\n",
    "        \n",
    "    def fit(self, \n",
    "            X: pd.DataFrame, \n",
    "            y: pd.DataFrame=None) -> object:\n",
    "        \n",
    "        # wybierz indeksy kolumn, których odsetek brakujących wartości jest większy niż threshold\n",
    "        columns_indicators = X.isnull().mean(axis=0) > self.threshold\n",
    "        \n",
    "        # zapisz odpowiednie nazwy kolumn\n",
    "        self.columns_to_transform = X.columns[columns_indicators]\n",
    "        \n",
    "        return self\n",
    "    \n",
    "    def transform(self, X: pd.DataFrame)-> pd.DataFrame:\n",
    "        X_transformed = X.copy()\n",
    "        \n",
    "        # nadpisz kolumny wartościami binarnymi\n",
    "        X_transformed[self.columns_to_transform] = X_transformed[self.columns_to_transform].notnull().astype(int)\n",
    "        \n",
    "        return X_transformed    \n",
    "    \n",
    "\n",
    "#Transformer, który redukuje zbiór wartości zmiennych nominalnych poprzez zastępowanie wartości \n",
    "#występujących w mniej niż treshold obserwacji wartością replace_value, domyślnie równą \"rare_value\".  \n",
    "\n",
    "class ReduceRareValues(BaseEstimator, TransformerMixin):\n",
    "    def __init__(self, \n",
    "                 threshold: int, \n",
    "                 replace_value: str=\"rare_value\") -> None:\n",
    "        \n",
    "        self.threshold = threshold\n",
    "        self.replace_value = replace_value\n",
    "        \n",
    "        # słownik przechowujący mapowanie kolumna -> lista częstych wartości w kolumnie\n",
    "        self.classes_to_keep = {}\n",
    "    \n",
    "    def fit(self, \n",
    "            X: pd.DataFrame, \n",
    "            y: pd.DataFrame=None) -> object:\n",
    "        \n",
    "        # dla każdej kolumny\n",
    "        for column in X.columns:\n",
    "            \n",
    "            # sprawdź, które wartości są częstsze niż zadany threshold\n",
    "            frequent_values = X[column].value_counts() >= self.threshold\n",
    "            \n",
    "            # pozyskaj listę indeksów (unikalnych wartości), które występują często w danej kolumnie\n",
    "            values_to_keep = frequent_values[frequent_values == True].index.tolist()\n",
    "            \n",
    "            # dopisz do słownika wartości, które zachowasz dla danej kolumny\n",
    "            self.classes_to_keep[column] = values_to_keep\n",
    "        \n",
    "        return self\n",
    "        \n",
    "        \n",
    "    def transform(self, X: pd.DataFrame)-> pd.DataFrame:\n",
    "        X_transformed = X.copy()\n",
    "        \n",
    "        # dla każdego itema w słowniku\n",
    "        for column, frequent_values in self.classes_to_keep.items():\n",
    "            \n",
    "            # wybierz unikalne wartości z kolumny, które nie są None'ami\n",
    "            unique_values = X[column][X[column].notnull()].unique()\n",
    "            \n",
    "            # wybierz wartości, które znajdują się w unique_values, a których nie ma w frequent_values\n",
    "            values_to_replace = np.setdiff1d(unique_values, frequent_values)\n",
    "            \n",
    "            # jeśli są jakieś wartości do zastąpienia, zastąp wybanym szablonem\n",
    "            if values_to_replace.size > 0:\n",
    "                X_transformed[column].replace(values_to_replace, self.replace_value, inplace=True)\n",
    "        \n",
    "        return X_transformed \n",
    "    \n",
    "class MyStandardScaler(BaseEstimator, TransformerMixin):\n",
    "    def __init__(self, \n",
    "                 with_mean: bool=True, \n",
    "                 with_std: bool=True) -> None:\n",
    "        \n",
    "        # pola przechowujące ustawienia scalera\n",
    "        self.with_mean = with_mean\n",
    "        self.with_std = with_std\n",
    "        \n",
    "        # zainicjalizuj pola przechowujące stastytyki\n",
    "        self.means = None\n",
    "        self.stds = None\n",
    "        \n",
    "    def fit(self, \n",
    "            X: pd.DataFrame, \n",
    "            y: pd.DataFrame=None) -> object:\n",
    "        # oblicz średnie i odchylenia standardowe\n",
    "        if self.with_mean:    \n",
    "            self.means = X.mean(axis=0).values \n",
    "        if self.with_std:\n",
    "            self.stds = X.std(axis=0).values\n",
    "        \n",
    "        return self\n",
    "    \n",
    "    def transform(self, X: pd.DataFrame) -> pd.DataFrame:\n",
    "        X_transformed = X.copy()\n",
    "        # przkształć zbiór zgodnie z wyliczonymi statystykami\n",
    "        if self.with_mean:    \n",
    "            X_transformed = X_transformed - self.means\n",
    "        if self.with_std:\n",
    "            X_transformed = X_transformed / self.stds\n",
    "        \n",
    "        return X_transformed\n",
    "    \n",
    "class Perf(BaseEstimator, TransformerMixin):\n",
    "\n",
    "    def fit(self, clf, x, y, perf=\"auc\"):\n",
    "\n",
    "      \n",
    "        y_pred_proba = clf.predict_proba(x)[:, 1]\n",
    "        y_pred = clf.predict(x)\n",
    "        perf_list = perf.split(',')\n",
    "\n",
    "        fpr, tpr, _ = roc_curve(y, y_pred_proba)\n",
    "        evals = auc(fpr, tpr)\n",
    "\n",
    "\n",
    "        return evals"
   ]
  },
  {
   "cell_type": "code",
   "execution_count": 35,
   "metadata": {},
   "outputs": [
    {
     "data": {
      "text/plain": [
       "AGE                          0\n",
       "Monthly_Income               0\n",
       "Loan_Amount_Applied         71\n",
       "Existing_EMI                71\n",
       "Loan_Amount_Submitted    34613\n",
       "EMI_Loan_Submitted       59294\n",
       "City                         0\n",
       "Employer_Name                0\n",
       "Salary_Account               0\n",
       "Source                       0\n",
       "dtype: int64"
      ]
     },
     "execution_count": 35,
     "metadata": {},
     "output_type": "execute_result"
    }
   ],
   "source": [
    "numerical_features = ['AGE', 'Monthly_Income', 'Loan_Amount_Applied', 'Existing_EMI', 'Loan_Amount_Submitted',\n",
    "                      'EMI_Loan_Submitted', 'City', 'Employer_Name', 'Salary_Account', 'Source']\n",
    "\n",
    "data[numerical_features].isna().sum()"
   ]
  },
  {
   "cell_type": "code",
   "execution_count": 36,
   "metadata": {},
   "outputs": [
    {
     "data": {
      "text/plain": [
       "Gender             0\n",
       "Mobile_Verified    0\n",
       "Filled_Form        0\n",
       "Device_Type        0\n",
       "dtype: int64"
      ]
     },
     "execution_count": 36,
     "metadata": {},
     "output_type": "execute_result"
    }
   ],
   "source": [
    "categorical_features = ['Gender', 'Mobile_Verified', 'Filled_Form', 'Device_Type']\n",
    "data[categorical_features].isna().sum()"
   ]
  },
  {
   "cell_type": "code",
   "execution_count": 37,
   "metadata": {},
   "outputs": [],
   "source": [
    "\n",
    "num_pipeline = Pipeline(steps=[\n",
    "    ('imputer', SimpleImputer(missing_values=np.nan, strategy='median')),\n",
    "    ('scaler', StandardScaler())\n",
    "])\n",
    "\n",
    "\n",
    "cat_pipeline = Pipeline(steps=[\n",
    "    ('imputer', SimpleImputer(strategy='most_frequent')),\n",
    "    ('one_hot', OneHotEncoder(handle_unknown='ignore', sparse=False))\n",
    "])\n",
    "\n",
    "\n",
    "preprocessor = ColumnTransformer(\n",
    "    transformers=[\n",
    "        ('num', num_pipeline, numerical_features),\n",
    "        ('cat', cat_pipeline, categorical_features)\n",
    "    ],\n",
    "    remainder='drop' # wszystkie pozostałe kolumny (niewymienione w numerical_features i categorical_features) zostają usunięte\n",
    ")\n",
    "\n",
    "clf = Pipeline(steps=[\n",
    "    ('prep', preprocessor),\n",
    "    ('clf_lr', LogisticRegression())\n",
    "])"
   ]
  },
  {
   "cell_type": "code",
   "execution_count": 38,
   "metadata": {
    "scrolled": true
   },
   "outputs": [
    {
     "data": {
      "text/plain": [
       "[('prep', ColumnTransformer(transformers=[('num',\n",
       "                                   Pipeline(steps=[('imputer',\n",
       "                                                    SimpleImputer(strategy='median')),\n",
       "                                                   ('scaler', StandardScaler())]),\n",
       "                                   ['AGE', 'Monthly_Income',\n",
       "                                    'Loan_Amount_Applied', 'Existing_EMI',\n",
       "                                    'Loan_Amount_Submitted', 'EMI_Loan_Submitted',\n",
       "                                    'City', 'Employer_Name', 'Salary_Account',\n",
       "                                    'Source']),\n",
       "                                  ('cat',\n",
       "                                   Pipeline(steps=[('imputer',\n",
       "                                                    SimpleImputer(strategy='most_frequent')),\n",
       "                                                   ('one_hot',\n",
       "                                                    OneHotEncoder(handle_unknown='ignore',\n",
       "                                                                  sparse=False))]),\n",
       "                                   ['Gender', 'Mobile_Verified', 'Filled_Form',\n",
       "                                    'Device_Type'])])),\n",
       " ('clf_lr', LogisticRegression())]"
      ]
     },
     "execution_count": 38,
     "metadata": {},
     "output_type": "execute_result"
    }
   ],
   "source": [
    "clf.steps"
   ]
  },
  {
   "cell_type": "code",
   "execution_count": 39,
   "metadata": {},
   "outputs": [],
   "source": [
    "X = data.drop('Disbursed', axis=1)\n",
    "y = data['Disbursed'] "
   ]
  },
  {
   "cell_type": "code",
   "execution_count": 40,
   "metadata": {},
   "outputs": [],
   "source": [
    "X_train, X_test, y_train, y_test = train_test_split(X, y, test_size=0.2)"
   ]
  },
  {
   "cell_type": "code",
   "execution_count": 41,
   "metadata": {},
   "outputs": [
    {
     "data": {
      "text/plain": [
       "(69616,)"
      ]
     },
     "execution_count": 41,
     "metadata": {},
     "output_type": "execute_result"
    }
   ],
   "source": [
    "y_train.shape"
   ]
  },
  {
   "cell_type": "code",
   "execution_count": 42,
   "metadata": {},
   "outputs": [
    {
     "data": {
      "text/plain": [
       "(69616, 26)"
      ]
     },
     "execution_count": 42,
     "metadata": {},
     "output_type": "execute_result"
    }
   ],
   "source": [
    "X_train.shape"
   ]
  },
  {
   "cell_type": "code",
   "execution_count": 43,
   "metadata": {
    "scrolled": true
   },
   "outputs": [
    {
     "data": {
      "text/html": [
       "<div>\n",
       "<style scoped>\n",
       "    .dataframe tbody tr th:only-of-type {\n",
       "        vertical-align: middle;\n",
       "    }\n",
       "\n",
       "    .dataframe tbody tr th {\n",
       "        vertical-align: top;\n",
       "    }\n",
       "\n",
       "    .dataframe thead th {\n",
       "        text-align: right;\n",
       "    }\n",
       "</style>\n",
       "<table border=\"1\" class=\"dataframe\">\n",
       "  <thead>\n",
       "    <tr style=\"text-align: right;\">\n",
       "      <th></th>\n",
       "      <th>ID</th>\n",
       "      <th>Gender</th>\n",
       "      <th>City</th>\n",
       "      <th>Monthly_Income</th>\n",
       "      <th>DOB</th>\n",
       "      <th>Lead_Creation_Date</th>\n",
       "      <th>Loan_Amount_Applied</th>\n",
       "      <th>Loan_Tenure_Applied</th>\n",
       "      <th>Existing_EMI</th>\n",
       "      <th>Employer_Name</th>\n",
       "      <th>...</th>\n",
       "      <th>Interest_Rate</th>\n",
       "      <th>Processing_Fee</th>\n",
       "      <th>EMI_Loan_Submitted</th>\n",
       "      <th>Filled_Form</th>\n",
       "      <th>Device_Type</th>\n",
       "      <th>Var2</th>\n",
       "      <th>Source</th>\n",
       "      <th>Var4</th>\n",
       "      <th>AGE</th>\n",
       "      <th>Days_Since_Creation</th>\n",
       "    </tr>\n",
       "  </thead>\n",
       "  <tbody>\n",
       "    <tr>\n",
       "      <th>64646</th>\n",
       "      <td>ID092747F20</td>\n",
       "      <td>Male</td>\n",
       "      <td>0</td>\n",
       "      <td>393.700394</td>\n",
       "      <td>01-Aug-60</td>\n",
       "      <td>10-Jul-15</td>\n",
       "      <td>1414.213562</td>\n",
       "      <td>5.0</td>\n",
       "      <td>238.746728</td>\n",
       "      <td>0</td>\n",
       "      <td>...</td>\n",
       "      <td>15.50</td>\n",
       "      <td>92.195445</td>\n",
       "      <td>142.986748</td>\n",
       "      <td>N</td>\n",
       "      <td>Web-browser</td>\n",
       "      <td>G</td>\n",
       "      <td>1</td>\n",
       "      <td>3</td>\n",
       "      <td>40</td>\n",
       "      <td>1946.0</td>\n",
       "    </tr>\n",
       "    <tr>\n",
       "      <th>49973</th>\n",
       "      <td>ID071622S20</td>\n",
       "      <td>Female</td>\n",
       "      <td>0</td>\n",
       "      <td>273.861279</td>\n",
       "      <td>09-May-75</td>\n",
       "      <td>27-Jun-15</td>\n",
       "      <td>707.106781</td>\n",
       "      <td>3.0</td>\n",
       "      <td>219.089023</td>\n",
       "      <td>0</td>\n",
       "      <td>...</td>\n",
       "      <td>NaN</td>\n",
       "      <td>NaN</td>\n",
       "      <td>NaN</td>\n",
       "      <td>N</td>\n",
       "      <td>Web-browser</td>\n",
       "      <td>B</td>\n",
       "      <td>1</td>\n",
       "      <td>1</td>\n",
       "      <td>45</td>\n",
       "      <td>1959.0</td>\n",
       "    </tr>\n",
       "    <tr>\n",
       "      <th>48316</th>\n",
       "      <td>ID069244G40</td>\n",
       "      <td>Male</td>\n",
       "      <td>3</td>\n",
       "      <td>154.919334</td>\n",
       "      <td>01-Jun-64</td>\n",
       "      <td>24-Jun-15</td>\n",
       "      <td>316.227766</td>\n",
       "      <td>5.0</td>\n",
       "      <td>0.000000</td>\n",
       "      <td>0</td>\n",
       "      <td>...</td>\n",
       "      <td>NaN</td>\n",
       "      <td>NaN</td>\n",
       "      <td>NaN</td>\n",
       "      <td>N</td>\n",
       "      <td>Web-browser</td>\n",
       "      <td>B</td>\n",
       "      <td>1</td>\n",
       "      <td>2</td>\n",
       "      <td>44</td>\n",
       "      <td>1962.0</td>\n",
       "    </tr>\n",
       "    <tr>\n",
       "      <th>66078</th>\n",
       "      <td>ID094825D00</td>\n",
       "      <td>Male</td>\n",
       "      <td>0</td>\n",
       "      <td>500.000000</td>\n",
       "      <td>04-Mar-85</td>\n",
       "      <td>13-Jul-15</td>\n",
       "      <td>447.213595</td>\n",
       "      <td>4.0</td>\n",
       "      <td>0.000000</td>\n",
       "      <td>0</td>\n",
       "      <td>...</td>\n",
       "      <td>19.75</td>\n",
       "      <td>31.622777</td>\n",
       "      <td>55.042983</td>\n",
       "      <td>N</td>\n",
       "      <td>Web-browser</td>\n",
       "      <td>G</td>\n",
       "      <td>1</td>\n",
       "      <td>3</td>\n",
       "      <td>35</td>\n",
       "      <td>1943.0</td>\n",
       "    </tr>\n",
       "    <tr>\n",
       "      <th>68622</th>\n",
       "      <td>ID098501N10</td>\n",
       "      <td>Female</td>\n",
       "      <td>0</td>\n",
       "      <td>148.323970</td>\n",
       "      <td>21-May-87</td>\n",
       "      <td>15-Jul-15</td>\n",
       "      <td>547.722558</td>\n",
       "      <td>0.0</td>\n",
       "      <td>89.442719</td>\n",
       "      <td>0</td>\n",
       "      <td>...</td>\n",
       "      <td>NaN</td>\n",
       "      <td>NaN</td>\n",
       "      <td>NaN</td>\n",
       "      <td>N</td>\n",
       "      <td>Web-browser</td>\n",
       "      <td>G</td>\n",
       "      <td>1</td>\n",
       "      <td>7</td>\n",
       "      <td>33</td>\n",
       "      <td>1941.0</td>\n",
       "    </tr>\n",
       "    <tr>\n",
       "      <th>...</th>\n",
       "      <td>...</td>\n",
       "      <td>...</td>\n",
       "      <td>...</td>\n",
       "      <td>...</td>\n",
       "      <td>...</td>\n",
       "      <td>...</td>\n",
       "      <td>...</td>\n",
       "      <td>...</td>\n",
       "      <td>...</td>\n",
       "      <td>...</td>\n",
       "      <td>...</td>\n",
       "      <td>...</td>\n",
       "      <td>...</td>\n",
       "      <td>...</td>\n",
       "      <td>...</td>\n",
       "      <td>...</td>\n",
       "      <td>...</td>\n",
       "      <td>...</td>\n",
       "      <td>...</td>\n",
       "      <td>...</td>\n",
       "      <td>...</td>\n",
       "    </tr>\n",
       "    <tr>\n",
       "      <th>21243</th>\n",
       "      <td>ID030458M30</td>\n",
       "      <td>Male</td>\n",
       "      <td>0</td>\n",
       "      <td>122.474487</td>\n",
       "      <td>14-Sep-84</td>\n",
       "      <td>25-May-15</td>\n",
       "      <td>547.722558</td>\n",
       "      <td>3.0</td>\n",
       "      <td>0.000000</td>\n",
       "      <td>0</td>\n",
       "      <td>...</td>\n",
       "      <td>18.40</td>\n",
       "      <td>48.989795</td>\n",
       "      <td>93.406691</td>\n",
       "      <td>Y</td>\n",
       "      <td>Web-browser</td>\n",
       "      <td>B</td>\n",
       "      <td>2</td>\n",
       "      <td>5</td>\n",
       "      <td>36</td>\n",
       "      <td>1992.0</td>\n",
       "    </tr>\n",
       "    <tr>\n",
       "      <th>45891</th>\n",
       "      <td>ID065769P40</td>\n",
       "      <td>Male</td>\n",
       "      <td>0</td>\n",
       "      <td>173.205081</td>\n",
       "      <td>26-Apr-83</td>\n",
       "      <td>22-Jun-15</td>\n",
       "      <td>1000.000000</td>\n",
       "      <td>3.0</td>\n",
       "      <td>0.000000</td>\n",
       "      <td>0</td>\n",
       "      <td>...</td>\n",
       "      <td>NaN</td>\n",
       "      <td>NaN</td>\n",
       "      <td>NaN</td>\n",
       "      <td>N</td>\n",
       "      <td>Web-browser</td>\n",
       "      <td>B</td>\n",
       "      <td>4</td>\n",
       "      <td>2</td>\n",
       "      <td>37</td>\n",
       "      <td>1964.0</td>\n",
       "    </tr>\n",
       "    <tr>\n",
       "      <th>42613</th>\n",
       "      <td>ID061064Q40</td>\n",
       "      <td>Male</td>\n",
       "      <td>5</td>\n",
       "      <td>158.113883</td>\n",
       "      <td>01-Jan-70</td>\n",
       "      <td>18-Jun-15</td>\n",
       "      <td>0.000000</td>\n",
       "      <td>0.0</td>\n",
       "      <td>0.000000</td>\n",
       "      <td>0</td>\n",
       "      <td>...</td>\n",
       "      <td>NaN</td>\n",
       "      <td>NaN</td>\n",
       "      <td>NaN</td>\n",
       "      <td>N</td>\n",
       "      <td>Mobile</td>\n",
       "      <td>C</td>\n",
       "      <td>10</td>\n",
       "      <td>2</td>\n",
       "      <td>50</td>\n",
       "      <td>1968.0</td>\n",
       "    </tr>\n",
       "    <tr>\n",
       "      <th>43567</th>\n",
       "      <td>ID062442Q20</td>\n",
       "      <td>Male</td>\n",
       "      <td>0</td>\n",
       "      <td>122.882057</td>\n",
       "      <td>28-Nov-87</td>\n",
       "      <td>19-Jun-15</td>\n",
       "      <td>316.227766</td>\n",
       "      <td>2.0</td>\n",
       "      <td>0.000000</td>\n",
       "      <td>0</td>\n",
       "      <td>...</td>\n",
       "      <td>18.40</td>\n",
       "      <td>31.622777</td>\n",
       "      <td>70.793785</td>\n",
       "      <td>N</td>\n",
       "      <td>Web-browser</td>\n",
       "      <td>B</td>\n",
       "      <td>2</td>\n",
       "      <td>4</td>\n",
       "      <td>33</td>\n",
       "      <td>1967.0</td>\n",
       "    </tr>\n",
       "    <tr>\n",
       "      <th>68268</th>\n",
       "      <td>ID097996C10</td>\n",
       "      <td>Female</td>\n",
       "      <td>3</td>\n",
       "      <td>128.452326</td>\n",
       "      <td>28-Feb-86</td>\n",
       "      <td>15-Jul-15</td>\n",
       "      <td>0.000000</td>\n",
       "      <td>0.0</td>\n",
       "      <td>0.000000</td>\n",
       "      <td>0</td>\n",
       "      <td>...</td>\n",
       "      <td>NaN</td>\n",
       "      <td>NaN</td>\n",
       "      <td>NaN</td>\n",
       "      <td>N</td>\n",
       "      <td>Mobile</td>\n",
       "      <td>G</td>\n",
       "      <td>1</td>\n",
       "      <td>1</td>\n",
       "      <td>34</td>\n",
       "      <td>1941.0</td>\n",
       "    </tr>\n",
       "  </tbody>\n",
       "</table>\n",
       "<p>69616 rows × 26 columns</p>\n",
       "</div>"
      ],
      "text/plain": [
       "                ID  Gender  City  Monthly_Income        DOB  \\\n",
       "64646  ID092747F20    Male     0      393.700394  01-Aug-60   \n",
       "49973  ID071622S20  Female     0      273.861279  09-May-75   \n",
       "48316  ID069244G40    Male     3      154.919334  01-Jun-64   \n",
       "66078  ID094825D00    Male     0      500.000000  04-Mar-85   \n",
       "68622  ID098501N10  Female     0      148.323970  21-May-87   \n",
       "...            ...     ...   ...             ...        ...   \n",
       "21243  ID030458M30    Male     0      122.474487  14-Sep-84   \n",
       "45891  ID065769P40    Male     0      173.205081  26-Apr-83   \n",
       "42613  ID061064Q40    Male     5      158.113883  01-Jan-70   \n",
       "43567  ID062442Q20    Male     0      122.882057  28-Nov-87   \n",
       "68268  ID097996C10  Female     3      128.452326  28-Feb-86   \n",
       "\n",
       "      Lead_Creation_Date  Loan_Amount_Applied  Loan_Tenure_Applied  \\\n",
       "64646          10-Jul-15          1414.213562                  5.0   \n",
       "49973          27-Jun-15           707.106781                  3.0   \n",
       "48316          24-Jun-15           316.227766                  5.0   \n",
       "66078          13-Jul-15           447.213595                  4.0   \n",
       "68622          15-Jul-15           547.722558                  0.0   \n",
       "...                  ...                  ...                  ...   \n",
       "21243          25-May-15           547.722558                  3.0   \n",
       "45891          22-Jun-15          1000.000000                  3.0   \n",
       "42613          18-Jun-15             0.000000                  0.0   \n",
       "43567          19-Jun-15           316.227766                  2.0   \n",
       "68268          15-Jul-15             0.000000                  0.0   \n",
       "\n",
       "       Existing_EMI  Employer_Name  ...  Interest_Rate Processing_Fee  \\\n",
       "64646    238.746728              0  ...          15.50      92.195445   \n",
       "49973    219.089023              0  ...            NaN            NaN   \n",
       "48316      0.000000              0  ...            NaN            NaN   \n",
       "66078      0.000000              0  ...          19.75      31.622777   \n",
       "68622     89.442719              0  ...            NaN            NaN   \n",
       "...             ...            ...  ...            ...            ...   \n",
       "21243      0.000000              0  ...          18.40      48.989795   \n",
       "45891      0.000000              0  ...            NaN            NaN   \n",
       "42613      0.000000              0  ...            NaN            NaN   \n",
       "43567      0.000000              0  ...          18.40      31.622777   \n",
       "68268      0.000000              0  ...            NaN            NaN   \n",
       "\n",
       "       EMI_Loan_Submitted Filled_Form  Device_Type  Var2  Source  Var4  AGE  \\\n",
       "64646          142.986748           N  Web-browser     G       1     3   40   \n",
       "49973                 NaN           N  Web-browser     B       1     1   45   \n",
       "48316                 NaN           N  Web-browser     B       1     2   44   \n",
       "66078           55.042983           N  Web-browser     G       1     3   35   \n",
       "68622                 NaN           N  Web-browser     G       1     7   33   \n",
       "...                   ...         ...          ...   ...     ...   ...  ...   \n",
       "21243           93.406691           Y  Web-browser     B       2     5   36   \n",
       "45891                 NaN           N  Web-browser     B       4     2   37   \n",
       "42613                 NaN           N       Mobile     C      10     2   50   \n",
       "43567           70.793785           N  Web-browser     B       2     4   33   \n",
       "68268                 NaN           N       Mobile     G       1     1   34   \n",
       "\n",
       "      Days_Since_Creation  \n",
       "64646              1946.0  \n",
       "49973              1959.0  \n",
       "48316              1962.0  \n",
       "66078              1943.0  \n",
       "68622              1941.0  \n",
       "...                   ...  \n",
       "21243              1992.0  \n",
       "45891              1964.0  \n",
       "42613              1968.0  \n",
       "43567              1967.0  \n",
       "68268              1941.0  \n",
       "\n",
       "[69616 rows x 26 columns]"
      ]
     },
     "execution_count": 43,
     "metadata": {},
     "output_type": "execute_result"
    }
   ],
   "source": [
    "X_train"
   ]
  },
  {
   "cell_type": "markdown",
   "metadata": {},
   "source": [
    "### Początkowo nie zmieniam hiperparametrów i sprawdzam modele w ten sposób"
   ]
  },
  {
   "cell_type": "code",
   "execution_count": 44,
   "metadata": {},
   "outputs": [
    {
     "data": {
      "text/plain": [
       "Pipeline(steps=[('prep',\n",
       "                 ColumnTransformer(transformers=[('num',\n",
       "                                                  Pipeline(steps=[('imputer',\n",
       "                                                                   SimpleImputer(strategy='median')),\n",
       "                                                                  ('scaler',\n",
       "                                                                   StandardScaler())]),\n",
       "                                                  ['AGE', 'Monthly_Income',\n",
       "                                                   'Loan_Amount_Applied',\n",
       "                                                   'Existing_EMI',\n",
       "                                                   'Loan_Amount_Submitted',\n",
       "                                                   'EMI_Loan_Submitted', 'City',\n",
       "                                                   'Employer_Name',\n",
       "                                                   'Salary_Account',\n",
       "                                                   'Source']),\n",
       "                                                 ('cat',\n",
       "                                                  Pipeline(steps=[('imputer',\n",
       "                                                                   SimpleImputer(strategy='most_frequent')),\n",
       "                                                                  ('one_hot',\n",
       "                                                                   OneHotEncoder(handle_unknown='ignore',\n",
       "                                                                                 sparse=False))]),\n",
       "                                                  ['Gender', 'Mobile_Verified',\n",
       "                                                   'Filled_Form',\n",
       "                                                   'Device_Type'])])),\n",
       "                ('clf_lr', LogisticRegression())])"
      ]
     },
     "execution_count": 44,
     "metadata": {},
     "output_type": "execute_result"
    }
   ],
   "source": [
    "clf.fit(X_train, y_train)"
   ]
  },
  {
   "cell_type": "code",
   "execution_count": 45,
   "metadata": {},
   "outputs": [],
   "source": [
    "score1 = clf.score(X_test, y_test)\n",
    "auc1 = Perf().fit(clf, X_test, y_test)"
   ]
  },
  {
   "cell_type": "code",
   "execution_count": 46,
   "metadata": {},
   "outputs": [],
   "source": [
    "num_pipeline = Pipeline(steps=[\n",
    "    ('imputer', SimpleImputer(missing_values=np.nan, strategy='median')),\n",
    "    ('scaler', StandardScaler())\n",
    "])\n",
    "\n",
    "\n",
    "cat_pipeline = Pipeline(steps=[\n",
    "    ('imputer', SimpleImputer(strategy='most_frequent')),\n",
    "    ('one_hot', OneHotEncoder(handle_unknown='ignore', sparse=False))\n",
    "])\n",
    "\n",
    "\n",
    "preprocessor = ColumnTransformer(\n",
    "    transformers=[\n",
    "        ('num', num_pipeline, numerical_features),\n",
    "        ('cat', cat_pipeline, categorical_features)\n",
    "    ],\n",
    "    remainder='drop' # wszystkie pozostałe kolumny (niewymienione w numerical_features i categorical_features) zostają usunięte\n",
    ")\n",
    "\n",
    "clf2 = Pipeline(steps=[\n",
    "    ('prep', preprocessor),\n",
    "    ('clf_dtc', DecisionTreeClassifier())\n",
    "])"
   ]
  },
  {
   "cell_type": "code",
   "execution_count": 47,
   "metadata": {},
   "outputs": [
    {
     "data": {
      "text/plain": [
       "Pipeline(steps=[('prep',\n",
       "                 ColumnTransformer(transformers=[('num',\n",
       "                                                  Pipeline(steps=[('imputer',\n",
       "                                                                   SimpleImputer(strategy='median')),\n",
       "                                                                  ('scaler',\n",
       "                                                                   StandardScaler())]),\n",
       "                                                  ['AGE', 'Monthly_Income',\n",
       "                                                   'Loan_Amount_Applied',\n",
       "                                                   'Existing_EMI',\n",
       "                                                   'Loan_Amount_Submitted',\n",
       "                                                   'EMI_Loan_Submitted', 'City',\n",
       "                                                   'Employer_Name',\n",
       "                                                   'Salary_Account',\n",
       "                                                   'Source']),\n",
       "                                                 ('cat',\n",
       "                                                  Pipeline(steps=[('imputer',\n",
       "                                                                   SimpleImputer(strategy='most_frequent')),\n",
       "                                                                  ('one_hot',\n",
       "                                                                   OneHotEncoder(handle_unknown='ignore',\n",
       "                                                                                 sparse=False))]),\n",
       "                                                  ['Gender', 'Mobile_Verified',\n",
       "                                                   'Filled_Form',\n",
       "                                                   'Device_Type'])])),\n",
       "                ('clf_dtc', DecisionTreeClassifier())])"
      ]
     },
     "execution_count": 47,
     "metadata": {},
     "output_type": "execute_result"
    }
   ],
   "source": [
    "clf2.fit(X_train, y_train)"
   ]
  },
  {
   "cell_type": "code",
   "execution_count": 48,
   "metadata": {},
   "outputs": [],
   "source": [
    "score2 = clf2.score(X_test, y_test)\n",
    "auc2 = Perf().fit(clf2, X_test, y_test)"
   ]
  },
  {
   "cell_type": "code",
   "execution_count": 49,
   "metadata": {},
   "outputs": [],
   "source": [
    "num_pipeline = Pipeline(steps=[\n",
    "    ('imputer', SimpleImputer(missing_values=np.nan, strategy='median')),\n",
    "    ('scaler', StandardScaler())\n",
    "])\n",
    "\n",
    "\n",
    "cat_pipeline = Pipeline(steps=[\n",
    "    ('imputer', SimpleImputer(strategy='most_frequent')),\n",
    "    ('one_hot', OneHotEncoder(handle_unknown='ignore', sparse=False))\n",
    "])\n",
    "\n",
    "\n",
    "preprocessor = ColumnTransformer(\n",
    "    transformers=[\n",
    "        ('num', num_pipeline, numerical_features),\n",
    "        ('cat', cat_pipeline, categorical_features)\n",
    "    ],\n",
    "    remainder='drop' # wszystkie pozostałe kolumny (niewymienione w numerical_features i categorical_features) zostają usunięte\n",
    ")\n",
    "\n",
    "clf3 = Pipeline(steps=[\n",
    "    ('prep', preprocessor),\n",
    "    ('clf_gnb', GradientBoostingClassifier())\n",
    "])"
   ]
  },
  {
   "cell_type": "code",
   "execution_count": 50,
   "metadata": {},
   "outputs": [
    {
     "data": {
      "text/plain": [
       "Pipeline(steps=[('prep',\n",
       "                 ColumnTransformer(transformers=[('num',\n",
       "                                                  Pipeline(steps=[('imputer',\n",
       "                                                                   SimpleImputer(strategy='median')),\n",
       "                                                                  ('scaler',\n",
       "                                                                   StandardScaler())]),\n",
       "                                                  ['AGE', 'Monthly_Income',\n",
       "                                                   'Loan_Amount_Applied',\n",
       "                                                   'Existing_EMI',\n",
       "                                                   'Loan_Amount_Submitted',\n",
       "                                                   'EMI_Loan_Submitted', 'City',\n",
       "                                                   'Employer_Name',\n",
       "                                                   'Salary_Account',\n",
       "                                                   'Source']),\n",
       "                                                 ('cat',\n",
       "                                                  Pipeline(steps=[('imputer',\n",
       "                                                                   SimpleImputer(strategy='most_frequent')),\n",
       "                                                                  ('one_hot',\n",
       "                                                                   OneHotEncoder(handle_unknown='ignore',\n",
       "                                                                                 sparse=False))]),\n",
       "                                                  ['Gender', 'Mobile_Verified',\n",
       "                                                   'Filled_Form',\n",
       "                                                   'Device_Type'])])),\n",
       "                ('clf_gnb', GradientBoostingClassifier())])"
      ]
     },
     "execution_count": 50,
     "metadata": {},
     "output_type": "execute_result"
    }
   ],
   "source": [
    "clf3.fit(X_train, y_train)"
   ]
  },
  {
   "cell_type": "code",
   "execution_count": 51,
   "metadata": {},
   "outputs": [],
   "source": [
    "score3 =clf3.score(X_test, y_test)\n",
    "auc3 = Perf().fit(clf3, X_test, y_test)"
   ]
  },
  {
   "cell_type": "code",
   "execution_count": 52,
   "metadata": {},
   "outputs": [],
   "source": [
    "num_pipeline = Pipeline(steps=[\n",
    "    ('imputer', SimpleImputer(missing_values=np.nan, strategy='median')),\n",
    "    ('scaler', StandardScaler())\n",
    "])\n",
    "\n",
    "\n",
    "cat_pipeline = Pipeline(steps=[\n",
    "    ('imputer', SimpleImputer(strategy='most_frequent')),\n",
    "    ('one_hot', OneHotEncoder(handle_unknown='ignore', sparse=False))\n",
    "])\n",
    "\n",
    "\n",
    "preprocessor = ColumnTransformer(\n",
    "    transformers=[\n",
    "        ('num', num_pipeline, numerical_features),\n",
    "        ('cat', cat_pipeline, categorical_features)\n",
    "    ],\n",
    "    remainder='drop' # wszystkie pozostałe kolumny (niewymienione w numerical_features i categorical_features) zostają usunięte\n",
    ")\n",
    "\n",
    "clf4 = Pipeline(steps=[\n",
    "    ('prep', preprocessor),\n",
    "    ('clf_rfc', RandomForestClassifier())\n",
    "])"
   ]
  },
  {
   "cell_type": "code",
   "execution_count": 53,
   "metadata": {},
   "outputs": [
    {
     "data": {
      "text/plain": [
       "Pipeline(steps=[('prep',\n",
       "                 ColumnTransformer(transformers=[('num',\n",
       "                                                  Pipeline(steps=[('imputer',\n",
       "                                                                   SimpleImputer(strategy='median')),\n",
       "                                                                  ('scaler',\n",
       "                                                                   StandardScaler())]),\n",
       "                                                  ['AGE', 'Monthly_Income',\n",
       "                                                   'Loan_Amount_Applied',\n",
       "                                                   'Existing_EMI',\n",
       "                                                   'Loan_Amount_Submitted',\n",
       "                                                   'EMI_Loan_Submitted', 'City',\n",
       "                                                   'Employer_Name',\n",
       "                                                   'Salary_Account',\n",
       "                                                   'Source']),\n",
       "                                                 ('cat',\n",
       "                                                  Pipeline(steps=[('imputer',\n",
       "                                                                   SimpleImputer(strategy='most_frequent')),\n",
       "                                                                  ('one_hot',\n",
       "                                                                   OneHotEncoder(handle_unknown='ignore',\n",
       "                                                                                 sparse=False))]),\n",
       "                                                  ['Gender', 'Mobile_Verified',\n",
       "                                                   'Filled_Form',\n",
       "                                                   'Device_Type'])])),\n",
       "                ('clf_rfc', RandomForestClassifier())])"
      ]
     },
     "execution_count": 53,
     "metadata": {},
     "output_type": "execute_result"
    }
   ],
   "source": [
    "clf4.fit(X_train, y_train)"
   ]
  },
  {
   "cell_type": "code",
   "execution_count": 54,
   "metadata": {},
   "outputs": [],
   "source": [
    "score4 = clf4.score(X_test, y_test)\n",
    "auc4 = Perf().fit(clf4, X_test, y_test)"
   ]
  },
  {
   "cell_type": "code",
   "execution_count": 55,
   "metadata": {},
   "outputs": [
    {
     "data": {
      "text/html": [
       "<div>\n",
       "<style scoped>\n",
       "    .dataframe tbody tr th:only-of-type {\n",
       "        vertical-align: middle;\n",
       "    }\n",
       "\n",
       "    .dataframe tbody tr th {\n",
       "        vertical-align: top;\n",
       "    }\n",
       "\n",
       "    .dataframe thead th {\n",
       "        text-align: right;\n",
       "    }\n",
       "</style>\n",
       "<table border=\"1\" class=\"dataframe\">\n",
       "  <thead>\n",
       "    <tr style=\"text-align: right;\">\n",
       "      <th></th>\n",
       "      <th>Logistic_Regression</th>\n",
       "      <th>DecisionTreeClassifier</th>\n",
       "      <th>Gradient Boosting Classifier</th>\n",
       "      <th>Random Forest Classifier</th>\n",
       "    </tr>\n",
       "  </thead>\n",
       "  <tbody>\n",
       "    <tr>\n",
       "      <th>0</th>\n",
       "      <td>0.984716</td>\n",
       "      <td>0.966157</td>\n",
       "      <td>0.984486</td>\n",
       "      <td>0.984199</td>\n",
       "    </tr>\n",
       "  </tbody>\n",
       "</table>\n",
       "</div>"
      ],
      "text/plain": [
       "   Logistic_Regression  DecisionTreeClassifier  Gradient Boosting Classifier  \\\n",
       "0             0.984716                0.966157                      0.984486   \n",
       "\n",
       "   Random Forest Classifier  \n",
       "0                  0.984199  "
      ]
     },
     "execution_count": 55,
     "metadata": {},
     "output_type": "execute_result"
    }
   ],
   "source": [
    "dc = pd.DataFrame({'Logistic_Regression' : [score1], 'DecisionTreeClassifier' : [score2], \n",
    "                   'Gradient Boosting Classifier' : [score3], 'Random Forest Classifier' : [score4]})\n",
    "dc"
   ]
  },
  {
   "cell_type": "code",
   "execution_count": 56,
   "metadata": {},
   "outputs": [
    {
     "data": {
      "text/html": [
       "<div>\n",
       "<style scoped>\n",
       "    .dataframe tbody tr th:only-of-type {\n",
       "        vertical-align: middle;\n",
       "    }\n",
       "\n",
       "    .dataframe tbody tr th {\n",
       "        vertical-align: top;\n",
       "    }\n",
       "\n",
       "    .dataframe thead th {\n",
       "        text-align: right;\n",
       "    }\n",
       "</style>\n",
       "<table border=\"1\" class=\"dataframe\">\n",
       "  <thead>\n",
       "    <tr style=\"text-align: right;\">\n",
       "      <th></th>\n",
       "      <th>Logistic_Regression</th>\n",
       "      <th>DecisionTreeClassifier</th>\n",
       "      <th>Gradient Boosting Classifier</th>\n",
       "      <th>Random Forest Classifier</th>\n",
       "    </tr>\n",
       "  </thead>\n",
       "  <tbody>\n",
       "    <tr>\n",
       "      <th>0</th>\n",
       "      <td>0.750031</td>\n",
       "      <td>0.512616</td>\n",
       "      <td>0.847084</td>\n",
       "      <td>0.770376</td>\n",
       "    </tr>\n",
       "  </tbody>\n",
       "</table>\n",
       "</div>"
      ],
      "text/plain": [
       "   Logistic_Regression  DecisionTreeClassifier  Gradient Boosting Classifier  \\\n",
       "0             0.750031                0.512616                      0.847084   \n",
       "\n",
       "   Random Forest Classifier  \n",
       "0                  0.770376  "
      ]
     },
     "execution_count": 56,
     "metadata": {},
     "output_type": "execute_result"
    }
   ],
   "source": [
    "dc = pd.DataFrame({'Logistic_Regression' : [auc1], 'DecisionTreeClassifier' : [auc2], \n",
    "                   'Gradient Boosting Classifier' : [auc3], 'Random Forest Classifier' : [auc4]})\n",
    "dc "
   ]
  },
  {
   "cell_type": "code",
   "execution_count": 57,
   "metadata": {},
   "outputs": [],
   "source": [
    "params = {\n",
    "'clf_lr__penalty' : ['l1', 'l2'],\n",
    "    'clf_lr__C' : np.logspace(-4, 4, 20),\n",
    "    'clf_lr__solver' : ['liblinear']}\n",
    "clf_v2 = GridSearchCV(clf, param_grid=params) "
   ]
  },
  {
   "cell_type": "code",
   "execution_count": 58,
   "metadata": {},
   "outputs": [],
   "source": [
    "clf_fit = clf_v2.fit(X_train, y_train)"
   ]
  },
  {
   "cell_type": "code",
   "execution_count": 59,
   "metadata": {},
   "outputs": [
    {
     "name": "stdout",
     "output_type": "stream",
     "text": [
      "Pipeline(steps=[('prep',\n",
      "                 ColumnTransformer(transformers=[('num',\n",
      "                                                  Pipeline(steps=[('imputer',\n",
      "                                                                   SimpleImputer(strategy='median')),\n",
      "                                                                  ('scaler',\n",
      "                                                                   StandardScaler())]),\n",
      "                                                  ['AGE', 'Monthly_Income',\n",
      "                                                   'Loan_Amount_Applied',\n",
      "                                                   'Existing_EMI',\n",
      "                                                   'Loan_Amount_Submitted',\n",
      "                                                   'EMI_Loan_Submitted', 'City',\n",
      "                                                   'Employer_Name',\n",
      "                                                   'Salary_Account',\n",
      "                                                   'Source']),\n",
      "                                                 ('cat',\n",
      "                                                  Pipeline(steps=[('imputer',\n",
      "                                                                   SimpleImputer(strategy='most_frequent')),\n",
      "                                                                  ('one_hot',\n",
      "                                                                   OneHotEncoder(handle_unknown='ignore',\n",
      "                                                                                 sparse=False))]),\n",
      "                                                  ['Gender', 'Mobile_Verified',\n",
      "                                                   'Filled_Form',\n",
      "                                                   'Device_Type'])])),\n",
      "                ('clf_lr',\n",
      "                 LogisticRegression(C=0.0001, penalty='l1',\n",
      "                                    solver='liblinear'))])\n"
     ]
    }
   ],
   "source": [
    "best_clf = clf_fit.best_estimator_\n",
    "print (best_clf)"
   ]
  },
  {
   "cell_type": "code",
   "execution_count": 60,
   "metadata": {},
   "outputs": [],
   "source": [
    "clf_v2 = Pipeline(steps=[\n",
    "    ('prep', preprocessor),\n",
    "    ('clf_lr', LogisticRegression(C=0.0001, penalty='l1',\n",
    "                                    solver='liblinear'))\n",
    "])\n",
    "\n",
    "clf_v2.fit(X_train, y_train)\n",
    "score1 = clf_v2.score(X_test, y_test)\n",
    "auc1 = Perf().fit(clf_v2, X_test, y_test)"
   ]
  },
  {
   "cell_type": "code",
   "execution_count": 61,
   "metadata": {},
   "outputs": [],
   "source": [
    "params = {\n",
    "'clf_dtc__criterion' : ['gini', 'entropy'],\n",
    "    'clf_dtc__max_depth' : range(1,10),\n",
    "    'clf_dtc__min_samples_leaf' : range(1,10)}\n",
    "clf2_v2 = GridSearchCV(clf2, param_grid=params) "
   ]
  },
  {
   "cell_type": "code",
   "execution_count": 62,
   "metadata": {},
   "outputs": [],
   "source": [
    "clf2_fit = clf2_v2.fit(X_train, y_train)"
   ]
  },
  {
   "cell_type": "code",
   "execution_count": 63,
   "metadata": {},
   "outputs": [
    {
     "name": "stdout",
     "output_type": "stream",
     "text": [
      "Pipeline(steps=[('prep',\n",
      "                 ColumnTransformer(transformers=[('num',\n",
      "                                                  Pipeline(steps=[('imputer',\n",
      "                                                                   SimpleImputer(strategy='median')),\n",
      "                                                                  ('scaler',\n",
      "                                                                   StandardScaler())]),\n",
      "                                                  ['AGE', 'Monthly_Income',\n",
      "                                                   'Loan_Amount_Applied',\n",
      "                                                   'Existing_EMI',\n",
      "                                                   'Loan_Amount_Submitted',\n",
      "                                                   'EMI_Loan_Submitted', 'City',\n",
      "                                                   'Employer_Name',\n",
      "                                                   'Salary_Account',\n",
      "                                                   'Source']),\n",
      "                                                 ('cat',\n",
      "                                                  Pipeline(steps=[('imputer',\n",
      "                                                                   SimpleImputer(strategy='most_frequent')),\n",
      "                                                                  ('one_hot',\n",
      "                                                                   OneHotEncoder(handle_unknown='ignore',\n",
      "                                                                                 sparse=False))]),\n",
      "                                                  ['Gender', 'Mobile_Verified',\n",
      "                                                   'Filled_Form',\n",
      "                                                   'Device_Type'])])),\n",
      "                ('clf_dtc', DecisionTreeClassifier(max_depth=1))])\n"
     ]
    }
   ],
   "source": [
    "best_clf2 = clf2_fit.best_estimator_\n",
    "print (best_clf2)"
   ]
  },
  {
   "cell_type": "code",
   "execution_count": 64,
   "metadata": {},
   "outputs": [],
   "source": [
    "clf2_v2 = Pipeline(steps=[\n",
    "    ('prep', preprocessor),\n",
    "    ('clf_dtc', DecisionTreeClassifier(max_depth=1))\n",
    "])\n",
    "\n",
    "clf2_v2.fit(X_train, y_train)\n",
    "score2 = clf2_v2.score(X_test, y_test)\n",
    "auc2 = Perf().fit(clf2_v2, X_test, y_test)"
   ]
  },
  {
   "cell_type": "code",
   "execution_count": 65,
   "metadata": {},
   "outputs": [],
   "source": [
    "params = {\n",
    "    \"clf_gnb__n_estimators\":[5,50],\n",
    "    \"clf_gnb__max_depth\":[1,3],\n",
    "    \"clf_gnb__learning_rate\":[0.01,0.1,1,10]\n",
    "}\n",
    "clf3_v2 = GridSearchCV(clf3, param_grid=params) "
   ]
  },
  {
   "cell_type": "code",
   "execution_count": 66,
   "metadata": {},
   "outputs": [],
   "source": [
    "clf3_fit = clf3_v2.fit(X_train, y_train) "
   ]
  },
  {
   "cell_type": "code",
   "execution_count": 67,
   "metadata": {},
   "outputs": [
    {
     "name": "stdout",
     "output_type": "stream",
     "text": [
      "Pipeline(steps=[('prep',\n",
      "                 ColumnTransformer(transformers=[('num',\n",
      "                                                  Pipeline(steps=[('imputer',\n",
      "                                                                   SimpleImputer(strategy='median')),\n",
      "                                                                  ('scaler',\n",
      "                                                                   StandardScaler())]),\n",
      "                                                  ['AGE', 'Monthly_Income',\n",
      "                                                   'Loan_Amount_Applied',\n",
      "                                                   'Existing_EMI',\n",
      "                                                   'Loan_Amount_Submitted',\n",
      "                                                   'EMI_Loan_Submitted', 'City',\n",
      "                                                   'Employer_Name',\n",
      "                                                   'Salary_Account',\n",
      "                                                   'Source']),\n",
      "                                                 ('cat',\n",
      "                                                  Pipeline(steps=[('imputer',\n",
      "                                                                   SimpleImputer(strategy='most_frequent')),\n",
      "                                                                  ('one_hot',\n",
      "                                                                   OneHotEncoder(handle_unknown='ignore',\n",
      "                                                                                 sparse=False))]),\n",
      "                                                  ['Gender', 'Mobile_Verified',\n",
      "                                                   'Filled_Form',\n",
      "                                                   'Device_Type'])])),\n",
      "                ('clf_gnb',\n",
      "                 GradientBoostingClassifier(learning_rate=0.01, max_depth=1,\n",
      "                                            n_estimators=5))])\n"
     ]
    }
   ],
   "source": [
    "best_clf3 = clf3_fit.best_estimator_\n",
    "print (best_clf3)"
   ]
  },
  {
   "cell_type": "code",
   "execution_count": 68,
   "metadata": {},
   "outputs": [],
   "source": [
    "clf3_v2 = Pipeline(steps=[\n",
    "    ('prep', preprocessor),\n",
    "    ('clf_gnb', GradientBoostingClassifier(learning_rate=0.01, max_depth=1,\n",
    "                                            n_estimators=5))\n",
    "])\n",
    "\n",
    "clf3_v2.fit(X_train, y_train)\n",
    "\n",
    "score3 = clf3_v2.score(X_test, y_test)\n",
    "auc3 = Perf().fit(clf3_v2, X_test, y_test)"
   ]
  },
  {
   "cell_type": "code",
   "execution_count": 69,
   "metadata": {},
   "outputs": [],
   "source": [
    "params = {\n",
    " 'clf_rfc__max_depth': [10, None],\n",
    " 'clf_rfc__min_samples_leaf': [1, 2],\n",
    " 'clf_rfc__n_estimators': [50, 100]}\n",
    "clf4_v2 = GridSearchCV(clf4, param_grid=params)"
   ]
  },
  {
   "cell_type": "code",
   "execution_count": 70,
   "metadata": {},
   "outputs": [],
   "source": [
    "clf4_fit = clf4_v2.fit(X_train, y_train)"
   ]
  },
  {
   "cell_type": "code",
   "execution_count": 71,
   "metadata": {},
   "outputs": [
    {
     "name": "stdout",
     "output_type": "stream",
     "text": [
      "Pipeline(steps=[('prep',\n",
      "                 ColumnTransformer(transformers=[('num',\n",
      "                                                  Pipeline(steps=[('imputer',\n",
      "                                                                   SimpleImputer(strategy='median')),\n",
      "                                                                  ('scaler',\n",
      "                                                                   StandardScaler())]),\n",
      "                                                  ['AGE', 'Monthly_Income',\n",
      "                                                   'Loan_Amount_Applied',\n",
      "                                                   'Existing_EMI',\n",
      "                                                   'Loan_Amount_Submitted',\n",
      "                                                   'EMI_Loan_Submitted', 'City',\n",
      "                                                   'Employer_Name',\n",
      "                                                   'Salary_Account',\n",
      "                                                   'Source']),\n",
      "                                                 ('cat',\n",
      "                                                  Pipeline(steps=[('imputer',\n",
      "                                                                   SimpleImputer(strategy='most_frequent')),\n",
      "                                                                  ('one_hot',\n",
      "                                                                   OneHotEncoder(handle_unknown='ignore',\n",
      "                                                                                 sparse=False))]),\n",
      "                                                  ['Gender', 'Mobile_Verified',\n",
      "                                                   'Filled_Form',\n",
      "                                                   'Device_Type'])])),\n",
      "                ('clf_rfc',\n",
      "                 RandomForestClassifier(max_depth=10, n_estimators=50))])\n"
     ]
    }
   ],
   "source": [
    "best_clf4 = clf4_fit.best_estimator_\n",
    "print (best_clf4)"
   ]
  },
  {
   "cell_type": "code",
   "execution_count": 72,
   "metadata": {},
   "outputs": [],
   "source": [
    "clf4_v2 = Pipeline(steps=[\n",
    "    ('prep', preprocessor),\n",
    "    ('clf_rfc', RandomForestClassifier(max_depth=10, n_estimators=50))\n",
    "])\n",
    "\n",
    "clf4_v2.fit(X_train, y_train)\n",
    "\n",
    "score4 = clf4_v2.score(X_test, y_test)\n",
    "auc4 = Perf().fit(clf4_v2, X_test, y_test)"
   ]
  },
  {
   "cell_type": "code",
   "execution_count": 73,
   "metadata": {},
   "outputs": [
    {
     "data": {
      "text/html": [
       "<div>\n",
       "<style scoped>\n",
       "    .dataframe tbody tr th:only-of-type {\n",
       "        vertical-align: middle;\n",
       "    }\n",
       "\n",
       "    .dataframe tbody tr th {\n",
       "        vertical-align: top;\n",
       "    }\n",
       "\n",
       "    .dataframe thead th {\n",
       "        text-align: right;\n",
       "    }\n",
       "</style>\n",
       "<table border=\"1\" class=\"dataframe\">\n",
       "  <thead>\n",
       "    <tr style=\"text-align: right;\">\n",
       "      <th></th>\n",
       "      <th>Logistic_Regression</th>\n",
       "      <th>DecisionTreeClassifier</th>\n",
       "      <th>Gradient Boosting Classifier</th>\n",
       "      <th>Random Forest Classifier</th>\n",
       "    </tr>\n",
       "  </thead>\n",
       "  <tbody>\n",
       "    <tr>\n",
       "      <th>0</th>\n",
       "      <td>0.984774</td>\n",
       "      <td>0.984774</td>\n",
       "      <td>0.984774</td>\n",
       "      <td>0.984716</td>\n",
       "    </tr>\n",
       "  </tbody>\n",
       "</table>\n",
       "</div>"
      ],
      "text/plain": [
       "   Logistic_Regression  DecisionTreeClassifier  Gradient Boosting Classifier  \\\n",
       "0             0.984774                0.984774                      0.984774   \n",
       "\n",
       "   Random Forest Classifier  \n",
       "0                  0.984716  "
      ]
     },
     "execution_count": 73,
     "metadata": {},
     "output_type": "execute_result"
    }
   ],
   "source": [
    "dc = pd.DataFrame({'Logistic_Regression' : [score1], 'DecisionTreeClassifier' : [score2], \n",
    "                   'Gradient Boosting Classifier' : [score3], 'Random Forest Classifier' : [score4]})\n",
    "dc"
   ]
  },
  {
   "cell_type": "code",
   "execution_count": 74,
   "metadata": {},
   "outputs": [
    {
     "data": {
      "text/html": [
       "<div>\n",
       "<style scoped>\n",
       "    .dataframe tbody tr th:only-of-type {\n",
       "        vertical-align: middle;\n",
       "    }\n",
       "\n",
       "    .dataframe tbody tr th {\n",
       "        vertical-align: top;\n",
       "    }\n",
       "\n",
       "    .dataframe thead th {\n",
       "        text-align: right;\n",
       "    }\n",
       "</style>\n",
       "<table border=\"1\" class=\"dataframe\">\n",
       "  <thead>\n",
       "    <tr style=\"text-align: right;\">\n",
       "      <th></th>\n",
       "      <th>Logistic_Regression</th>\n",
       "      <th>DecisionTreeClassifier</th>\n",
       "      <th>Gradient Boosting Classifier</th>\n",
       "      <th>Random Forest Classifier</th>\n",
       "    </tr>\n",
       "  </thead>\n",
       "  <tbody>\n",
       "    <tr>\n",
       "      <th>0</th>\n",
       "      <td>0.5</td>\n",
       "      <td>0.743561</td>\n",
       "      <td>0.745382</td>\n",
       "      <td>0.837573</td>\n",
       "    </tr>\n",
       "  </tbody>\n",
       "</table>\n",
       "</div>"
      ],
      "text/plain": [
       "   Logistic_Regression  DecisionTreeClassifier  Gradient Boosting Classifier  \\\n",
       "0                  0.5                0.743561                      0.745382   \n",
       "\n",
       "   Random Forest Classifier  \n",
       "0                  0.837573  "
      ]
     },
     "execution_count": 74,
     "metadata": {},
     "output_type": "execute_result"
    }
   ],
   "source": [
    "dc = pd.DataFrame({'Logistic_Regression' : [auc1], 'DecisionTreeClassifier' : [auc2], \n",
    "                   'Gradient Boosting Classifier' : [auc3], 'Random Forest Classifier' : [auc4]})\n",
    "dc "
   ]
  },
  {
   "cell_type": "code",
   "execution_count": null,
   "metadata": {},
   "outputs": [],
   "source": []
  }
 ],
 "metadata": {
  "kernelspec": {
   "display_name": "Python 3",
   "language": "python",
   "name": "python3"
  },
  "language_info": {
   "codemirror_mode": {
    "name": "ipython",
    "version": 3
   },
   "file_extension": ".py",
   "mimetype": "text/x-python",
   "name": "python",
   "nbconvert_exporter": "python",
   "pygments_lexer": "ipython3",
   "version": "3.8.1"
  }
 },
 "nbformat": 4,
 "nbformat_minor": 2
}
